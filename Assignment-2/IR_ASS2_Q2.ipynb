{
  "nbformat": 4,
  "nbformat_minor": 0,
  "metadata": {
    "colab": {
      "name": "IR_ASS2_Q2.ipynb",
      "provenance": [],
      "collapsed_sections": [
        "bmbhEd92rHn-",
        "Zr5O-dRxtZRF",
        "Abj_iHt104cI",
        "vIxZwZSLPrGa",
        "GI8mCOjlLdhP",
        "DFh63gVCMBP9",
        "ITBFNptRPKFi",
        "xsFz0e9nPOgQ",
        "rdmrgITp7GER",
        "kLxm368Lt_Z-"
      ]
    },
    "kernelspec": {
      "name": "python3",
      "display_name": "Python 3"
    },
    "language_info": {
      "name": "python"
    }
  },
  "cells": [
    {
      "cell_type": "code",
      "execution_count": null,
      "metadata": {
        "id": "w2ZhJ-LIM0gb",
        "colab": {
          "base_uri": "https://localhost:8080/"
        },
        "outputId": "36282b03-aff7-4392-8ca7-9fd8e7a09d60"
      },
      "outputs": [
        {
          "output_type": "stream",
          "name": "stdout",
          "text": [
            "Drive already mounted at /content/drive; to attempt to forcibly remount, call drive.mount(\"/content/drive\", force_remount=True).\n"
          ]
        }
      ],
      "source": [
        "from google.colab import drive\n",
        "drive.mount('/content/drive')"
      ]
    },
    {
      "cell_type": "markdown",
      "source": [
        "#import library "
      ],
      "metadata": {
        "id": "wCbovQfKNstt"
      }
    },
    {
      "cell_type": "code",
      "source": [
        "import pandas as pd\n",
        "import numpy as np\n",
        "import os\n",
        "import operator\n",
        "import math as m\n",
        "import matplotlib.pyplot as plt\n"
      ],
      "metadata": {
        "id": "KPv6EUcwNsEc"
      },
      "execution_count": null,
      "outputs": []
    },
    {
      "cell_type": "code",
      "source": [
        ""
      ],
      "metadata": {
        "id": "YiO16paLkMPj"
      },
      "execution_count": null,
      "outputs": []
    },
    {
      "cell_type": "markdown",
      "source": [
        "#read data from file "
      ],
      "metadata": {
        "id": "s4ZLoON_NnLu"
      }
    },
    {
      "cell_type": "code",
      "source": [
        "data =pd.read_csv(\"/content/drive/MyDrive/IR /IR-assignment-2-data.csv\",sep=\" \",header = None)"
      ],
      "metadata": {
        "id": "Pv7Y95qelIiY"
      },
      "execution_count": null,
      "outputs": []
    },
    {
      "cell_type": "code",
      "source": [
        "data"
      ],
      "metadata": {
        "id": "FUYw-9umly-t",
        "colab": {
          "base_uri": "https://localhost:8080/",
          "height": 468
        },
        "outputId": "5524d6ee-209c-4c88-ac5d-3e184277acc5"
      },
      "execution_count": null,
      "outputs": [
        {
          "output_type": "execute_result",
          "data": {
            "text/plain": [
              "        0          1    2    3    4    5    6    7          8           9    \\\n",
              "0         0      qid:4  1:3  2:0  3:2  4:0  5:3  6:1        7:0  8:0.666667   \n",
              "1         0      qid:4  1:3  2:0  3:3  4:0  5:3  6:1        7:0         8:1   \n",
              "2         0      qid:4  1:3  2:0  3:2  4:0  5:3  6:1        7:0  8:0.666667   \n",
              "3         0      qid:4  1:3  2:0  3:3  4:0  5:3  6:1        7:0         8:1   \n",
              "4         1      qid:4  1:3  2:0  3:3  4:0  5:3  6:1        7:0         8:1   \n",
              "...     ...        ...  ...  ...  ...  ...  ...  ...        ...         ...   \n",
              "239088    0  qid:29989  1:2  2:0  3:1  4:1  5:2  6:1        7:0   8:0.50000   \n",
              "239089    0  qid:29989  1:2  2:0  3:1  4:0  5:2  6:1        7:0   8:0.50000   \n",
              "239090    1  qid:29989  1:2  2:0  3:2  4:2  5:2  6:1        7:0         8:1   \n",
              "239091    1  qid:29989  1:2  2:0  3:2  4:0  5:2  6:1        7:0         8:1   \n",
              "239092    0  qid:29989  1:2  2:1  3:1  4:1  5:2  6:1  7:0.50000   8:0.50000   \n",
              "\n",
              "        ...       129     130        131        132      133      134    135  \\\n",
              "0       ...     128:2   129:9    130:124   131:4678   132:54   133:74  134:0   \n",
              "1       ...     128:0   129:8    130:122    131:508  132:131  133:136  134:0   \n",
              "2       ...     128:2   129:8    130:115    131:508   132:51   133:70  134:0   \n",
              "3       ...    128:82  129:17    130:122    131:508   132:83  133:107  134:0   \n",
              "4       ...    128:11   129:8    130:121    131:508  132:103  133:120  134:0   \n",
              "...     ...       ...     ...        ...        ...      ...      ...    ...   \n",
              "239088  ...  128:9754  129:29   130:2889  131:63571    132:1    133:1  134:0   \n",
              "239089  ...    128:84   129:1   130:9450  131:19599    132:4    133:4  134:0   \n",
              "239090  ...     128:1   129:0    130:144   131:6701    132:5    133:2  134:0   \n",
              "239091  ...     128:0  129:11   130:2152  131:65535   132:37   133:16  134:0   \n",
              "239092  ...   128:139  129:15  130:17062  131:65535    132:1    133:1  134:0   \n",
              "\n",
              "           136        137 138  \n",
              "0        135:0      136:0 NaN  \n",
              "1        135:0      136:0 NaN  \n",
              "2        135:0      136:0 NaN  \n",
              "3       135:10  136:13.35 NaN  \n",
              "4        135:0      136:0 NaN  \n",
              "...        ...        ...  ..  \n",
              "239088   135:0      136:0 NaN  \n",
              "239089   135:0      136:0 NaN  \n",
              "239090   135:0      136:0 NaN  \n",
              "239091   135:0      136:0 NaN  \n",
              "239092   135:0      136:0 NaN  \n",
              "\n",
              "[239093 rows x 139 columns]"
            ],
            "text/html": [
              "\n",
              "  <div id=\"df-422b40b3-9eb4-45d8-95fc-c4a8a48dbea2\">\n",
              "    <div class=\"colab-df-container\">\n",
              "      <div>\n",
              "<style scoped>\n",
              "    .dataframe tbody tr th:only-of-type {\n",
              "        vertical-align: middle;\n",
              "    }\n",
              "\n",
              "    .dataframe tbody tr th {\n",
              "        vertical-align: top;\n",
              "    }\n",
              "\n",
              "    .dataframe thead th {\n",
              "        text-align: right;\n",
              "    }\n",
              "</style>\n",
              "<table border=\"1\" class=\"dataframe\">\n",
              "  <thead>\n",
              "    <tr style=\"text-align: right;\">\n",
              "      <th></th>\n",
              "      <th>0</th>\n",
              "      <th>1</th>\n",
              "      <th>2</th>\n",
              "      <th>3</th>\n",
              "      <th>4</th>\n",
              "      <th>5</th>\n",
              "      <th>6</th>\n",
              "      <th>7</th>\n",
              "      <th>8</th>\n",
              "      <th>9</th>\n",
              "      <th>...</th>\n",
              "      <th>129</th>\n",
              "      <th>130</th>\n",
              "      <th>131</th>\n",
              "      <th>132</th>\n",
              "      <th>133</th>\n",
              "      <th>134</th>\n",
              "      <th>135</th>\n",
              "      <th>136</th>\n",
              "      <th>137</th>\n",
              "      <th>138</th>\n",
              "    </tr>\n",
              "  </thead>\n",
              "  <tbody>\n",
              "    <tr>\n",
              "      <th>0</th>\n",
              "      <td>0</td>\n",
              "      <td>qid:4</td>\n",
              "      <td>1:3</td>\n",
              "      <td>2:0</td>\n",
              "      <td>3:2</td>\n",
              "      <td>4:0</td>\n",
              "      <td>5:3</td>\n",
              "      <td>6:1</td>\n",
              "      <td>7:0</td>\n",
              "      <td>8:0.666667</td>\n",
              "      <td>...</td>\n",
              "      <td>128:2</td>\n",
              "      <td>129:9</td>\n",
              "      <td>130:124</td>\n",
              "      <td>131:4678</td>\n",
              "      <td>132:54</td>\n",
              "      <td>133:74</td>\n",
              "      <td>134:0</td>\n",
              "      <td>135:0</td>\n",
              "      <td>136:0</td>\n",
              "      <td>NaN</td>\n",
              "    </tr>\n",
              "    <tr>\n",
              "      <th>1</th>\n",
              "      <td>0</td>\n",
              "      <td>qid:4</td>\n",
              "      <td>1:3</td>\n",
              "      <td>2:0</td>\n",
              "      <td>3:3</td>\n",
              "      <td>4:0</td>\n",
              "      <td>5:3</td>\n",
              "      <td>6:1</td>\n",
              "      <td>7:0</td>\n",
              "      <td>8:1</td>\n",
              "      <td>...</td>\n",
              "      <td>128:0</td>\n",
              "      <td>129:8</td>\n",
              "      <td>130:122</td>\n",
              "      <td>131:508</td>\n",
              "      <td>132:131</td>\n",
              "      <td>133:136</td>\n",
              "      <td>134:0</td>\n",
              "      <td>135:0</td>\n",
              "      <td>136:0</td>\n",
              "      <td>NaN</td>\n",
              "    </tr>\n",
              "    <tr>\n",
              "      <th>2</th>\n",
              "      <td>0</td>\n",
              "      <td>qid:4</td>\n",
              "      <td>1:3</td>\n",
              "      <td>2:0</td>\n",
              "      <td>3:2</td>\n",
              "      <td>4:0</td>\n",
              "      <td>5:3</td>\n",
              "      <td>6:1</td>\n",
              "      <td>7:0</td>\n",
              "      <td>8:0.666667</td>\n",
              "      <td>...</td>\n",
              "      <td>128:2</td>\n",
              "      <td>129:8</td>\n",
              "      <td>130:115</td>\n",
              "      <td>131:508</td>\n",
              "      <td>132:51</td>\n",
              "      <td>133:70</td>\n",
              "      <td>134:0</td>\n",
              "      <td>135:0</td>\n",
              "      <td>136:0</td>\n",
              "      <td>NaN</td>\n",
              "    </tr>\n",
              "    <tr>\n",
              "      <th>3</th>\n",
              "      <td>0</td>\n",
              "      <td>qid:4</td>\n",
              "      <td>1:3</td>\n",
              "      <td>2:0</td>\n",
              "      <td>3:3</td>\n",
              "      <td>4:0</td>\n",
              "      <td>5:3</td>\n",
              "      <td>6:1</td>\n",
              "      <td>7:0</td>\n",
              "      <td>8:1</td>\n",
              "      <td>...</td>\n",
              "      <td>128:82</td>\n",
              "      <td>129:17</td>\n",
              "      <td>130:122</td>\n",
              "      <td>131:508</td>\n",
              "      <td>132:83</td>\n",
              "      <td>133:107</td>\n",
              "      <td>134:0</td>\n",
              "      <td>135:10</td>\n",
              "      <td>136:13.35</td>\n",
              "      <td>NaN</td>\n",
              "    </tr>\n",
              "    <tr>\n",
              "      <th>4</th>\n",
              "      <td>1</td>\n",
              "      <td>qid:4</td>\n",
              "      <td>1:3</td>\n",
              "      <td>2:0</td>\n",
              "      <td>3:3</td>\n",
              "      <td>4:0</td>\n",
              "      <td>5:3</td>\n",
              "      <td>6:1</td>\n",
              "      <td>7:0</td>\n",
              "      <td>8:1</td>\n",
              "      <td>...</td>\n",
              "      <td>128:11</td>\n",
              "      <td>129:8</td>\n",
              "      <td>130:121</td>\n",
              "      <td>131:508</td>\n",
              "      <td>132:103</td>\n",
              "      <td>133:120</td>\n",
              "      <td>134:0</td>\n",
              "      <td>135:0</td>\n",
              "      <td>136:0</td>\n",
              "      <td>NaN</td>\n",
              "    </tr>\n",
              "    <tr>\n",
              "      <th>...</th>\n",
              "      <td>...</td>\n",
              "      <td>...</td>\n",
              "      <td>...</td>\n",
              "      <td>...</td>\n",
              "      <td>...</td>\n",
              "      <td>...</td>\n",
              "      <td>...</td>\n",
              "      <td>...</td>\n",
              "      <td>...</td>\n",
              "      <td>...</td>\n",
              "      <td>...</td>\n",
              "      <td>...</td>\n",
              "      <td>...</td>\n",
              "      <td>...</td>\n",
              "      <td>...</td>\n",
              "      <td>...</td>\n",
              "      <td>...</td>\n",
              "      <td>...</td>\n",
              "      <td>...</td>\n",
              "      <td>...</td>\n",
              "      <td>...</td>\n",
              "    </tr>\n",
              "    <tr>\n",
              "      <th>239088</th>\n",
              "      <td>0</td>\n",
              "      <td>qid:29989</td>\n",
              "      <td>1:2</td>\n",
              "      <td>2:0</td>\n",
              "      <td>3:1</td>\n",
              "      <td>4:1</td>\n",
              "      <td>5:2</td>\n",
              "      <td>6:1</td>\n",
              "      <td>7:0</td>\n",
              "      <td>8:0.50000</td>\n",
              "      <td>...</td>\n",
              "      <td>128:9754</td>\n",
              "      <td>129:29</td>\n",
              "      <td>130:2889</td>\n",
              "      <td>131:63571</td>\n",
              "      <td>132:1</td>\n",
              "      <td>133:1</td>\n",
              "      <td>134:0</td>\n",
              "      <td>135:0</td>\n",
              "      <td>136:0</td>\n",
              "      <td>NaN</td>\n",
              "    </tr>\n",
              "    <tr>\n",
              "      <th>239089</th>\n",
              "      <td>0</td>\n",
              "      <td>qid:29989</td>\n",
              "      <td>1:2</td>\n",
              "      <td>2:0</td>\n",
              "      <td>3:1</td>\n",
              "      <td>4:0</td>\n",
              "      <td>5:2</td>\n",
              "      <td>6:1</td>\n",
              "      <td>7:0</td>\n",
              "      <td>8:0.50000</td>\n",
              "      <td>...</td>\n",
              "      <td>128:84</td>\n",
              "      <td>129:1</td>\n",
              "      <td>130:9450</td>\n",
              "      <td>131:19599</td>\n",
              "      <td>132:4</td>\n",
              "      <td>133:4</td>\n",
              "      <td>134:0</td>\n",
              "      <td>135:0</td>\n",
              "      <td>136:0</td>\n",
              "      <td>NaN</td>\n",
              "    </tr>\n",
              "    <tr>\n",
              "      <th>239090</th>\n",
              "      <td>1</td>\n",
              "      <td>qid:29989</td>\n",
              "      <td>1:2</td>\n",
              "      <td>2:0</td>\n",
              "      <td>3:2</td>\n",
              "      <td>4:2</td>\n",
              "      <td>5:2</td>\n",
              "      <td>6:1</td>\n",
              "      <td>7:0</td>\n",
              "      <td>8:1</td>\n",
              "      <td>...</td>\n",
              "      <td>128:1</td>\n",
              "      <td>129:0</td>\n",
              "      <td>130:144</td>\n",
              "      <td>131:6701</td>\n",
              "      <td>132:5</td>\n",
              "      <td>133:2</td>\n",
              "      <td>134:0</td>\n",
              "      <td>135:0</td>\n",
              "      <td>136:0</td>\n",
              "      <td>NaN</td>\n",
              "    </tr>\n",
              "    <tr>\n",
              "      <th>239091</th>\n",
              "      <td>1</td>\n",
              "      <td>qid:29989</td>\n",
              "      <td>1:2</td>\n",
              "      <td>2:0</td>\n",
              "      <td>3:2</td>\n",
              "      <td>4:0</td>\n",
              "      <td>5:2</td>\n",
              "      <td>6:1</td>\n",
              "      <td>7:0</td>\n",
              "      <td>8:1</td>\n",
              "      <td>...</td>\n",
              "      <td>128:0</td>\n",
              "      <td>129:11</td>\n",
              "      <td>130:2152</td>\n",
              "      <td>131:65535</td>\n",
              "      <td>132:37</td>\n",
              "      <td>133:16</td>\n",
              "      <td>134:0</td>\n",
              "      <td>135:0</td>\n",
              "      <td>136:0</td>\n",
              "      <td>NaN</td>\n",
              "    </tr>\n",
              "    <tr>\n",
              "      <th>239092</th>\n",
              "      <td>0</td>\n",
              "      <td>qid:29989</td>\n",
              "      <td>1:2</td>\n",
              "      <td>2:1</td>\n",
              "      <td>3:1</td>\n",
              "      <td>4:1</td>\n",
              "      <td>5:2</td>\n",
              "      <td>6:1</td>\n",
              "      <td>7:0.50000</td>\n",
              "      <td>8:0.50000</td>\n",
              "      <td>...</td>\n",
              "      <td>128:139</td>\n",
              "      <td>129:15</td>\n",
              "      <td>130:17062</td>\n",
              "      <td>131:65535</td>\n",
              "      <td>132:1</td>\n",
              "      <td>133:1</td>\n",
              "      <td>134:0</td>\n",
              "      <td>135:0</td>\n",
              "      <td>136:0</td>\n",
              "      <td>NaN</td>\n",
              "    </tr>\n",
              "  </tbody>\n",
              "</table>\n",
              "<p>239093 rows × 139 columns</p>\n",
              "</div>\n",
              "      <button class=\"colab-df-convert\" onclick=\"convertToInteractive('df-422b40b3-9eb4-45d8-95fc-c4a8a48dbea2')\"\n",
              "              title=\"Convert this dataframe to an interactive table.\"\n",
              "              style=\"display:none;\">\n",
              "        \n",
              "  <svg xmlns=\"http://www.w3.org/2000/svg\" height=\"24px\"viewBox=\"0 0 24 24\"\n",
              "       width=\"24px\">\n",
              "    <path d=\"M0 0h24v24H0V0z\" fill=\"none\"/>\n",
              "    <path d=\"M18.56 5.44l.94 2.06.94-2.06 2.06-.94-2.06-.94-.94-2.06-.94 2.06-2.06.94zm-11 1L8.5 8.5l.94-2.06 2.06-.94-2.06-.94L8.5 2.5l-.94 2.06-2.06.94zm10 10l.94 2.06.94-2.06 2.06-.94-2.06-.94-.94-2.06-.94 2.06-2.06.94z\"/><path d=\"M17.41 7.96l-1.37-1.37c-.4-.4-.92-.59-1.43-.59-.52 0-1.04.2-1.43.59L10.3 9.45l-7.72 7.72c-.78.78-.78 2.05 0 2.83L4 21.41c.39.39.9.59 1.41.59.51 0 1.02-.2 1.41-.59l7.78-7.78 2.81-2.81c.8-.78.8-2.07 0-2.86zM5.41 20L4 18.59l7.72-7.72 1.47 1.35L5.41 20z\"/>\n",
              "  </svg>\n",
              "      </button>\n",
              "      \n",
              "  <style>\n",
              "    .colab-df-container {\n",
              "      display:flex;\n",
              "      flex-wrap:wrap;\n",
              "      gap: 12px;\n",
              "    }\n",
              "\n",
              "    .colab-df-convert {\n",
              "      background-color: #E8F0FE;\n",
              "      border: none;\n",
              "      border-radius: 50%;\n",
              "      cursor: pointer;\n",
              "      display: none;\n",
              "      fill: #1967D2;\n",
              "      height: 32px;\n",
              "      padding: 0 0 0 0;\n",
              "      width: 32px;\n",
              "    }\n",
              "\n",
              "    .colab-df-convert:hover {\n",
              "      background-color: #E2EBFA;\n",
              "      box-shadow: 0px 1px 2px rgba(60, 64, 67, 0.3), 0px 1px 3px 1px rgba(60, 64, 67, 0.15);\n",
              "      fill: #174EA6;\n",
              "    }\n",
              "\n",
              "    [theme=dark] .colab-df-convert {\n",
              "      background-color: #3B4455;\n",
              "      fill: #D2E3FC;\n",
              "    }\n",
              "\n",
              "    [theme=dark] .colab-df-convert:hover {\n",
              "      background-color: #434B5C;\n",
              "      box-shadow: 0px 1px 3px 1px rgba(0, 0, 0, 0.15);\n",
              "      filter: drop-shadow(0px 1px 2px rgba(0, 0, 0, 0.3));\n",
              "      fill: #FFFFFF;\n",
              "    }\n",
              "  </style>\n",
              "\n",
              "      <script>\n",
              "        const buttonEl =\n",
              "          document.querySelector('#df-422b40b3-9eb4-45d8-95fc-c4a8a48dbea2 button.colab-df-convert');\n",
              "        buttonEl.style.display =\n",
              "          google.colab.kernel.accessAllowed ? 'block' : 'none';\n",
              "\n",
              "        async function convertToInteractive(key) {\n",
              "          const element = document.querySelector('#df-422b40b3-9eb4-45d8-95fc-c4a8a48dbea2');\n",
              "          const dataTable =\n",
              "            await google.colab.kernel.invokeFunction('convertToInteractive',\n",
              "                                                     [key], {});\n",
              "          if (!dataTable) return;\n",
              "\n",
              "          const docLinkHtml = 'Like what you see? Visit the ' +\n",
              "            '<a target=\"_blank\" href=https://colab.research.google.com/notebooks/data_table.ipynb>data table notebook</a>'\n",
              "            + ' to learn more about interactive tables.';\n",
              "          element.innerHTML = '';\n",
              "          dataTable['output_type'] = 'display_data';\n",
              "          await google.colab.output.renderOutput(dataTable, element);\n",
              "          const docLink = document.createElement('div');\n",
              "          docLink.innerHTML = docLinkHtml;\n",
              "          element.appendChild(docLink);\n",
              "        }\n",
              "      </script>\n",
              "    </div>\n",
              "  </div>\n",
              "  "
            ]
          },
          "metadata": {},
          "execution_count": 70
        }
      ]
    },
    {
      "cell_type": "code",
      "source": [
        "data[76]"
      ],
      "metadata": {
        "id": "OkOzc01Zll3q",
        "colab": {
          "base_uri": "https://localhost:8080/"
        },
        "outputId": "b481589c-ae31-4ec7-9f89-baf271740c2f"
      },
      "execution_count": null,
      "outputs": [
        {
          "output_type": "execute_result",
          "data": {
            "text/plain": [
              "0           75:90.53171\n",
              "1         75:538.388954\n",
              "2          75:88.171761\n",
              "3         75:144.564444\n",
              "4         75:142.589323\n",
              "              ...      \n",
              "239088    75:123.200543\n",
              "239089     75:24.981669\n",
              "239090     75:94.323435\n",
              "239091     75:67.916264\n",
              "239092    75:127.427666\n",
              "Name: 76, Length: 239093, dtype: object"
            ]
          },
          "metadata": {},
          "execution_count": 71
        }
      ]
    },
    {
      "cell_type": "markdown",
      "source": [
        "# here we create new data that contain only quid4"
      ],
      "metadata": {
        "id": "McYJcobwzk60"
      }
    },
    {
      "cell_type": "code",
      "source": [
        "newdata=data[data[1]==\"qid:4\"]"
      ],
      "metadata": {
        "id": "Ad-fIo99qIys"
      },
      "execution_count": null,
      "outputs": []
    },
    {
      "cell_type": "code",
      "source": [
        "newdata.shape"
      ],
      "metadata": {
        "id": "klG5Bf5_z6Bq",
        "colab": {
          "base_uri": "https://localhost:8080/"
        },
        "outputId": "c4ecfa08-1d78-4e3c-b006-059dac39ee88"
      },
      "execution_count": null,
      "outputs": [
        {
          "output_type": "execute_result",
          "data": {
            "text/plain": [
              "(103, 139)"
            ]
          },
          "metadata": {},
          "execution_count": 9
        }
      ]
    },
    {
      "cell_type": "code",
      "source": [
        "newdata[76]"
      ],
      "metadata": {
        "colab": {
          "base_uri": "https://localhost:8080/"
        },
        "id": "bDOp39Wv6_mO",
        "outputId": "60f7f097-5d56-42a6-fd2a-3964fc1b17bd"
      },
      "execution_count": null,
      "outputs": [
        {
          "output_type": "execute_result",
          "data": {
            "text/plain": [
              "0        75:90.53171\n",
              "1      75:538.388954\n",
              "2       75:88.171761\n",
              "3      75:144.564444\n",
              "4      75:142.589323\n",
              "           ...      \n",
              "98      75:70.460443\n",
              "99      75:270.13233\n",
              "100    75:296.023694\n",
              "101    75:528.520116\n",
              "102     75:84.625987\n",
              "Name: 76, Length: 103, dtype: object"
            ]
          },
          "metadata": {},
          "execution_count": 68
        }
      ]
    },
    {
      "cell_type": "code",
      "source": [
        "relevance =[]\n",
        "sortedrelevance=[]\n",
        "relevance=list(newdata[0])\n",
        "sortedrelevance=list(newdata[0])\n",
        "sortedrelevance.sort(reverse=True)"
      ],
      "metadata": {
        "id": "2jZBYNbG8W3b"
      },
      "execution_count": null,
      "outputs": []
    },
    {
      "cell_type": "code",
      "source": [
        "newdata[0][32]"
      ],
      "metadata": {
        "colab": {
          "base_uri": "https://localhost:8080/"
        },
        "id": "N8Ji7wKT_B1q",
        "outputId": "0e2f3d55-ffab-4976-e8c0-b7e7a48c77a8"
      },
      "execution_count": null,
      "outputs": [
        {
          "output_type": "execute_result",
          "data": {
            "text/plain": [
              "1"
            ]
          },
          "metadata": {},
          "execution_count": 16
        }
      ]
    },
    {
      "cell_type": "code",
      "source": [
        "newdata[75][10]"
      ],
      "metadata": {
        "colab": {
          "base_uri": "https://localhost:8080/",
          "height": 35
        },
        "id": "P-pNzxu3atrN",
        "outputId": "92122060-2479-4e7b-efd6-b52a5bc1df6b"
      },
      "execution_count": null,
      "outputs": [
        {
          "output_type": "execute_result",
          "data": {
            "text/plain": [
              "'74:0'"
            ],
            "application/vnd.google.colaboratory.intrinsic+json": {
              "type": "string"
            }
          },
          "metadata": {},
          "execution_count": 17
        }
      ]
    },
    {
      "cell_type": "code",
      "source": [
        "newdata1=newdata.copy()"
      ],
      "metadata": {
        "id": "quxKObYp_Dva"
      },
      "execution_count": null,
      "outputs": []
    },
    {
      "cell_type": "markdown",
      "source": [
        "# This is the file that give maximum DCG"
      ],
      "metadata": {
        "id": "nUezhPLiAz2x"
      }
    },
    {
      "cell_type": "code",
      "source": [
        "newdata1 =newdata1.sort_values(by=[0],ascending=False)\n",
        "newdata1"
      ],
      "metadata": {
        "colab": {
          "base_uri": "https://localhost:8080/",
          "height": 424
        },
        "id": "J1RcFSm1AJmw",
        "outputId": "a9359815-0ced-4cb2-b95e-4e29f16f6b0d"
      },
      "execution_count": null,
      "outputs": [
        {
          "output_type": "execute_result",
          "data": {
            "text/plain": [
              "     0      1    2    3    4    5    6           7           8           9    \\\n",
              "7      3  qid:4  1:3  2:0  3:2  4:1  5:3         6:1         7:0  8:0.666667   \n",
              "18     2  qid:4  1:3  2:0  3:2  4:1  5:3         6:1         7:0  8:0.666667   \n",
              "76     2  qid:4  1:2  2:0  3:1  4:0  5:2  6:0.666667         7:0  8:0.333333   \n",
              "61     2  qid:4  1:2  2:1  3:1  4:0  5:2  6:0.666667  7:0.333333  8:0.333333   \n",
              "52     2  qid:4  1:2  2:0  3:2  4:0  5:2  6:0.666667         7:0  8:0.666667   \n",
              "..   ...    ...  ...  ...  ...  ...  ...         ...         ...         ...   \n",
              "33     0  qid:4  1:3  2:0  3:3  4:3  5:3         6:1         7:0         8:1   \n",
              "30     0  qid:4  1:2  2:0  3:0  4:0  5:2  6:0.666667         7:0         8:0   \n",
              "28     0  qid:4  1:3  2:0  3:1  4:0  5:3         6:1         7:0  8:0.333333   \n",
              "27     0  qid:4  1:3  2:1  3:3  4:0  5:3         6:1  7:0.333333         8:1   \n",
              "102    0  qid:4  1:3  2:0  3:2  4:0  5:3         6:1         7:0  8:0.666667   \n",
              "\n",
              "     ...       129     130        131        132      133      134    135  \\\n",
              "7    ...   128:349   129:8    130:123    131:281   132:22    133:6  134:0   \n",
              "18   ...     128:0   129:5    130:790   131:4744   132:18   133:60  134:0   \n",
              "76   ...     128:0   129:0   130:2417    131:721   132:14  133:113  134:0   \n",
              "61   ...  128:3181  129:16  130:39773  131:26970    132:4    133:8  134:0   \n",
              "52   ...  128:1067   129:1   130:6930   131:8855    132:4   133:95  134:0   \n",
              "..   ...       ...     ...        ...        ...      ...      ...    ...   \n",
              "33   ...    128:88   129:3   130:6555  131:15788   132:40  133:133  134:0   \n",
              "30   ...  128:4976   129:1  130:27439  131:21610    132:4    133:7  134:0   \n",
              "28   ...   128:993  129:10   130:7060   131:5916    132:9   133:15  134:0   \n",
              "27   ...    128:84   129:5    130:541    131:395  132:146  133:180  134:0   \n",
              "102  ...  128:1415  129:14   130:5334   131:6434    132:4   133:17  134:0   \n",
              "\n",
              "        136       137 138  \n",
              "7     135:0     136:0 NaN  \n",
              "18    135:0     136:0 NaN  \n",
              "76   135:13  136:47.9 NaN  \n",
              "61    135:0     136:0 NaN  \n",
              "52    135:0     136:0 NaN  \n",
              "..      ...       ...  ..  \n",
              "33    135:0     136:0 NaN  \n",
              "30    135:0     136:0 NaN  \n",
              "28    135:0     136:0 NaN  \n",
              "27    135:0     136:0 NaN  \n",
              "102   135:0     136:0 NaN  \n",
              "\n",
              "[103 rows x 139 columns]"
            ],
            "text/html": [
              "\n",
              "  <div id=\"df-0d682711-7270-4b97-804b-4f894bce0378\">\n",
              "    <div class=\"colab-df-container\">\n",
              "      <div>\n",
              "<style scoped>\n",
              "    .dataframe tbody tr th:only-of-type {\n",
              "        vertical-align: middle;\n",
              "    }\n",
              "\n",
              "    .dataframe tbody tr th {\n",
              "        vertical-align: top;\n",
              "    }\n",
              "\n",
              "    .dataframe thead th {\n",
              "        text-align: right;\n",
              "    }\n",
              "</style>\n",
              "<table border=\"1\" class=\"dataframe\">\n",
              "  <thead>\n",
              "    <tr style=\"text-align: right;\">\n",
              "      <th></th>\n",
              "      <th>0</th>\n",
              "      <th>1</th>\n",
              "      <th>2</th>\n",
              "      <th>3</th>\n",
              "      <th>4</th>\n",
              "      <th>5</th>\n",
              "      <th>6</th>\n",
              "      <th>7</th>\n",
              "      <th>8</th>\n",
              "      <th>9</th>\n",
              "      <th>...</th>\n",
              "      <th>129</th>\n",
              "      <th>130</th>\n",
              "      <th>131</th>\n",
              "      <th>132</th>\n",
              "      <th>133</th>\n",
              "      <th>134</th>\n",
              "      <th>135</th>\n",
              "      <th>136</th>\n",
              "      <th>137</th>\n",
              "      <th>138</th>\n",
              "    </tr>\n",
              "  </thead>\n",
              "  <tbody>\n",
              "    <tr>\n",
              "      <th>7</th>\n",
              "      <td>3</td>\n",
              "      <td>qid:4</td>\n",
              "      <td>1:3</td>\n",
              "      <td>2:0</td>\n",
              "      <td>3:2</td>\n",
              "      <td>4:1</td>\n",
              "      <td>5:3</td>\n",
              "      <td>6:1</td>\n",
              "      <td>7:0</td>\n",
              "      <td>8:0.666667</td>\n",
              "      <td>...</td>\n",
              "      <td>128:349</td>\n",
              "      <td>129:8</td>\n",
              "      <td>130:123</td>\n",
              "      <td>131:281</td>\n",
              "      <td>132:22</td>\n",
              "      <td>133:6</td>\n",
              "      <td>134:0</td>\n",
              "      <td>135:0</td>\n",
              "      <td>136:0</td>\n",
              "      <td>NaN</td>\n",
              "    </tr>\n",
              "    <tr>\n",
              "      <th>18</th>\n",
              "      <td>2</td>\n",
              "      <td>qid:4</td>\n",
              "      <td>1:3</td>\n",
              "      <td>2:0</td>\n",
              "      <td>3:2</td>\n",
              "      <td>4:1</td>\n",
              "      <td>5:3</td>\n",
              "      <td>6:1</td>\n",
              "      <td>7:0</td>\n",
              "      <td>8:0.666667</td>\n",
              "      <td>...</td>\n",
              "      <td>128:0</td>\n",
              "      <td>129:5</td>\n",
              "      <td>130:790</td>\n",
              "      <td>131:4744</td>\n",
              "      <td>132:18</td>\n",
              "      <td>133:60</td>\n",
              "      <td>134:0</td>\n",
              "      <td>135:0</td>\n",
              "      <td>136:0</td>\n",
              "      <td>NaN</td>\n",
              "    </tr>\n",
              "    <tr>\n",
              "      <th>76</th>\n",
              "      <td>2</td>\n",
              "      <td>qid:4</td>\n",
              "      <td>1:2</td>\n",
              "      <td>2:0</td>\n",
              "      <td>3:1</td>\n",
              "      <td>4:0</td>\n",
              "      <td>5:2</td>\n",
              "      <td>6:0.666667</td>\n",
              "      <td>7:0</td>\n",
              "      <td>8:0.333333</td>\n",
              "      <td>...</td>\n",
              "      <td>128:0</td>\n",
              "      <td>129:0</td>\n",
              "      <td>130:2417</td>\n",
              "      <td>131:721</td>\n",
              "      <td>132:14</td>\n",
              "      <td>133:113</td>\n",
              "      <td>134:0</td>\n",
              "      <td>135:13</td>\n",
              "      <td>136:47.9</td>\n",
              "      <td>NaN</td>\n",
              "    </tr>\n",
              "    <tr>\n",
              "      <th>61</th>\n",
              "      <td>2</td>\n",
              "      <td>qid:4</td>\n",
              "      <td>1:2</td>\n",
              "      <td>2:1</td>\n",
              "      <td>3:1</td>\n",
              "      <td>4:0</td>\n",
              "      <td>5:2</td>\n",
              "      <td>6:0.666667</td>\n",
              "      <td>7:0.333333</td>\n",
              "      <td>8:0.333333</td>\n",
              "      <td>...</td>\n",
              "      <td>128:3181</td>\n",
              "      <td>129:16</td>\n",
              "      <td>130:39773</td>\n",
              "      <td>131:26970</td>\n",
              "      <td>132:4</td>\n",
              "      <td>133:8</td>\n",
              "      <td>134:0</td>\n",
              "      <td>135:0</td>\n",
              "      <td>136:0</td>\n",
              "      <td>NaN</td>\n",
              "    </tr>\n",
              "    <tr>\n",
              "      <th>52</th>\n",
              "      <td>2</td>\n",
              "      <td>qid:4</td>\n",
              "      <td>1:2</td>\n",
              "      <td>2:0</td>\n",
              "      <td>3:2</td>\n",
              "      <td>4:0</td>\n",
              "      <td>5:2</td>\n",
              "      <td>6:0.666667</td>\n",
              "      <td>7:0</td>\n",
              "      <td>8:0.666667</td>\n",
              "      <td>...</td>\n",
              "      <td>128:1067</td>\n",
              "      <td>129:1</td>\n",
              "      <td>130:6930</td>\n",
              "      <td>131:8855</td>\n",
              "      <td>132:4</td>\n",
              "      <td>133:95</td>\n",
              "      <td>134:0</td>\n",
              "      <td>135:0</td>\n",
              "      <td>136:0</td>\n",
              "      <td>NaN</td>\n",
              "    </tr>\n",
              "    <tr>\n",
              "      <th>...</th>\n",
              "      <td>...</td>\n",
              "      <td>...</td>\n",
              "      <td>...</td>\n",
              "      <td>...</td>\n",
              "      <td>...</td>\n",
              "      <td>...</td>\n",
              "      <td>...</td>\n",
              "      <td>...</td>\n",
              "      <td>...</td>\n",
              "      <td>...</td>\n",
              "      <td>...</td>\n",
              "      <td>...</td>\n",
              "      <td>...</td>\n",
              "      <td>...</td>\n",
              "      <td>...</td>\n",
              "      <td>...</td>\n",
              "      <td>...</td>\n",
              "      <td>...</td>\n",
              "      <td>...</td>\n",
              "      <td>...</td>\n",
              "      <td>...</td>\n",
              "    </tr>\n",
              "    <tr>\n",
              "      <th>33</th>\n",
              "      <td>0</td>\n",
              "      <td>qid:4</td>\n",
              "      <td>1:3</td>\n",
              "      <td>2:0</td>\n",
              "      <td>3:3</td>\n",
              "      <td>4:3</td>\n",
              "      <td>5:3</td>\n",
              "      <td>6:1</td>\n",
              "      <td>7:0</td>\n",
              "      <td>8:1</td>\n",
              "      <td>...</td>\n",
              "      <td>128:88</td>\n",
              "      <td>129:3</td>\n",
              "      <td>130:6555</td>\n",
              "      <td>131:15788</td>\n",
              "      <td>132:40</td>\n",
              "      <td>133:133</td>\n",
              "      <td>134:0</td>\n",
              "      <td>135:0</td>\n",
              "      <td>136:0</td>\n",
              "      <td>NaN</td>\n",
              "    </tr>\n",
              "    <tr>\n",
              "      <th>30</th>\n",
              "      <td>0</td>\n",
              "      <td>qid:4</td>\n",
              "      <td>1:2</td>\n",
              "      <td>2:0</td>\n",
              "      <td>3:0</td>\n",
              "      <td>4:0</td>\n",
              "      <td>5:2</td>\n",
              "      <td>6:0.666667</td>\n",
              "      <td>7:0</td>\n",
              "      <td>8:0</td>\n",
              "      <td>...</td>\n",
              "      <td>128:4976</td>\n",
              "      <td>129:1</td>\n",
              "      <td>130:27439</td>\n",
              "      <td>131:21610</td>\n",
              "      <td>132:4</td>\n",
              "      <td>133:7</td>\n",
              "      <td>134:0</td>\n",
              "      <td>135:0</td>\n",
              "      <td>136:0</td>\n",
              "      <td>NaN</td>\n",
              "    </tr>\n",
              "    <tr>\n",
              "      <th>28</th>\n",
              "      <td>0</td>\n",
              "      <td>qid:4</td>\n",
              "      <td>1:3</td>\n",
              "      <td>2:0</td>\n",
              "      <td>3:1</td>\n",
              "      <td>4:0</td>\n",
              "      <td>5:3</td>\n",
              "      <td>6:1</td>\n",
              "      <td>7:0</td>\n",
              "      <td>8:0.333333</td>\n",
              "      <td>...</td>\n",
              "      <td>128:993</td>\n",
              "      <td>129:10</td>\n",
              "      <td>130:7060</td>\n",
              "      <td>131:5916</td>\n",
              "      <td>132:9</td>\n",
              "      <td>133:15</td>\n",
              "      <td>134:0</td>\n",
              "      <td>135:0</td>\n",
              "      <td>136:0</td>\n",
              "      <td>NaN</td>\n",
              "    </tr>\n",
              "    <tr>\n",
              "      <th>27</th>\n",
              "      <td>0</td>\n",
              "      <td>qid:4</td>\n",
              "      <td>1:3</td>\n",
              "      <td>2:1</td>\n",
              "      <td>3:3</td>\n",
              "      <td>4:0</td>\n",
              "      <td>5:3</td>\n",
              "      <td>6:1</td>\n",
              "      <td>7:0.333333</td>\n",
              "      <td>8:1</td>\n",
              "      <td>...</td>\n",
              "      <td>128:84</td>\n",
              "      <td>129:5</td>\n",
              "      <td>130:541</td>\n",
              "      <td>131:395</td>\n",
              "      <td>132:146</td>\n",
              "      <td>133:180</td>\n",
              "      <td>134:0</td>\n",
              "      <td>135:0</td>\n",
              "      <td>136:0</td>\n",
              "      <td>NaN</td>\n",
              "    </tr>\n",
              "    <tr>\n",
              "      <th>102</th>\n",
              "      <td>0</td>\n",
              "      <td>qid:4</td>\n",
              "      <td>1:3</td>\n",
              "      <td>2:0</td>\n",
              "      <td>3:2</td>\n",
              "      <td>4:0</td>\n",
              "      <td>5:3</td>\n",
              "      <td>6:1</td>\n",
              "      <td>7:0</td>\n",
              "      <td>8:0.666667</td>\n",
              "      <td>...</td>\n",
              "      <td>128:1415</td>\n",
              "      <td>129:14</td>\n",
              "      <td>130:5334</td>\n",
              "      <td>131:6434</td>\n",
              "      <td>132:4</td>\n",
              "      <td>133:17</td>\n",
              "      <td>134:0</td>\n",
              "      <td>135:0</td>\n",
              "      <td>136:0</td>\n",
              "      <td>NaN</td>\n",
              "    </tr>\n",
              "  </tbody>\n",
              "</table>\n",
              "<p>103 rows × 139 columns</p>\n",
              "</div>\n",
              "      <button class=\"colab-df-convert\" onclick=\"convertToInteractive('df-0d682711-7270-4b97-804b-4f894bce0378')\"\n",
              "              title=\"Convert this dataframe to an interactive table.\"\n",
              "              style=\"display:none;\">\n",
              "        \n",
              "  <svg xmlns=\"http://www.w3.org/2000/svg\" height=\"24px\"viewBox=\"0 0 24 24\"\n",
              "       width=\"24px\">\n",
              "    <path d=\"M0 0h24v24H0V0z\" fill=\"none\"/>\n",
              "    <path d=\"M18.56 5.44l.94 2.06.94-2.06 2.06-.94-2.06-.94-.94-2.06-.94 2.06-2.06.94zm-11 1L8.5 8.5l.94-2.06 2.06-.94-2.06-.94L8.5 2.5l-.94 2.06-2.06.94zm10 10l.94 2.06.94-2.06 2.06-.94-2.06-.94-.94-2.06-.94 2.06-2.06.94z\"/><path d=\"M17.41 7.96l-1.37-1.37c-.4-.4-.92-.59-1.43-.59-.52 0-1.04.2-1.43.59L10.3 9.45l-7.72 7.72c-.78.78-.78 2.05 0 2.83L4 21.41c.39.39.9.59 1.41.59.51 0 1.02-.2 1.41-.59l7.78-7.78 2.81-2.81c.8-.78.8-2.07 0-2.86zM5.41 20L4 18.59l7.72-7.72 1.47 1.35L5.41 20z\"/>\n",
              "  </svg>\n",
              "      </button>\n",
              "      \n",
              "  <style>\n",
              "    .colab-df-container {\n",
              "      display:flex;\n",
              "      flex-wrap:wrap;\n",
              "      gap: 12px;\n",
              "    }\n",
              "\n",
              "    .colab-df-convert {\n",
              "      background-color: #E8F0FE;\n",
              "      border: none;\n",
              "      border-radius: 50%;\n",
              "      cursor: pointer;\n",
              "      display: none;\n",
              "      fill: #1967D2;\n",
              "      height: 32px;\n",
              "      padding: 0 0 0 0;\n",
              "      width: 32px;\n",
              "    }\n",
              "\n",
              "    .colab-df-convert:hover {\n",
              "      background-color: #E2EBFA;\n",
              "      box-shadow: 0px 1px 2px rgba(60, 64, 67, 0.3), 0px 1px 3px 1px rgba(60, 64, 67, 0.15);\n",
              "      fill: #174EA6;\n",
              "    }\n",
              "\n",
              "    [theme=dark] .colab-df-convert {\n",
              "      background-color: #3B4455;\n",
              "      fill: #D2E3FC;\n",
              "    }\n",
              "\n",
              "    [theme=dark] .colab-df-convert:hover {\n",
              "      background-color: #434B5C;\n",
              "      box-shadow: 0px 1px 3px 1px rgba(0, 0, 0, 0.15);\n",
              "      filter: drop-shadow(0px 1px 2px rgba(0, 0, 0, 0.3));\n",
              "      fill: #FFFFFF;\n",
              "    }\n",
              "  </style>\n",
              "\n",
              "      <script>\n",
              "        const buttonEl =\n",
              "          document.querySelector('#df-0d682711-7270-4b97-804b-4f894bce0378 button.colab-df-convert');\n",
              "        buttonEl.style.display =\n",
              "          google.colab.kernel.accessAllowed ? 'block' : 'none';\n",
              "\n",
              "        async function convertToInteractive(key) {\n",
              "          const element = document.querySelector('#df-0d682711-7270-4b97-804b-4f894bce0378');\n",
              "          const dataTable =\n",
              "            await google.colab.kernel.invokeFunction('convertToInteractive',\n",
              "                                                     [key], {});\n",
              "          if (!dataTable) return;\n",
              "\n",
              "          const docLinkHtml = 'Like what you see? Visit the ' +\n",
              "            '<a target=\"_blank\" href=https://colab.research.google.com/notebooks/data_table.ipynb>data table notebook</a>'\n",
              "            + ' to learn more about interactive tables.';\n",
              "          element.innerHTML = '';\n",
              "          dataTable['output_type'] = 'display_data';\n",
              "          await google.colab.output.renderOutput(dataTable, element);\n",
              "          const docLink = document.createElement('div');\n",
              "          docLink.innerHTML = docLinkHtml;\n",
              "          element.appendChild(docLink);\n",
              "        }\n",
              "      </script>\n",
              "    </div>\n",
              "  </div>\n",
              "  "
            ]
          },
          "metadata": {},
          "execution_count": 92
        }
      ]
    },
    {
      "cell_type": "markdown",
      "source": [
        "#Save this file which generate Max DCG"
      ],
      "metadata": {
        "id": "KV1wzEnlA9Xh"
      }
    },
    {
      "cell_type": "code",
      "source": [
        "newdata1.to_csv(\"Max_DCG_File.csv\",index=False)"
      ],
      "metadata": {
        "id": "ul0UE0TIA8oy"
      },
      "execution_count": null,
      "outputs": []
    },
    {
      "cell_type": "code",
      "source": [
        "listofdata=[]\n",
        "index=0\n",
        "for i in newdata[76]:\n",
        "  str=i.split(\":\")\n",
        "  if(newdata[0][index]!=0):\n",
        "    listofdata.append([1,float(str[1])])\n",
        "  else:\n",
        "    listofdata.append([0,float(str[1])])\n",
        "  index+=1\n",
        "  \n",
        "   \n",
        "\n",
        "   \n",
        "\n",
        "\n",
        "\n"
      ],
      "metadata": {
        "id": "iQ_LdsL54LFO"
      },
      "execution_count": null,
      "outputs": []
    },
    {
      "cell_type": "markdown",
      "source": [
        "type(relevance)"
      ],
      "metadata": {
        "id": "b0XLlILmvm7M"
      }
    },
    {
      "cell_type": "code",
      "source": [
        "relevance"
      ],
      "metadata": {
        "id": "I8n6E0vyvt-K"
      },
      "execution_count": null,
      "outputs": []
    },
    {
      "cell_type": "code",
      "source": [
        "list1=set(relevance)\n",
        "\n"
      ],
      "metadata": {
        "id": "SkBGEYhO_5qQ"
      },
      "execution_count": null,
      "outputs": []
    },
    {
      "cell_type": "markdown",
      "source": [
        "#Unique Value in Relevance column"
      ],
      "metadata": {
        "id": "bmbhEd92rHn-"
      }
    },
    {
      "cell_type": "code",
      "source": [
        "list1"
      ],
      "metadata": {
        "colab": {
          "base_uri": "https://localhost:8080/"
        },
        "id": "tjqZF6k3rBw3",
        "outputId": "8ee7ccf1-23ec-44e4-e221-3755a481c1dc"
      },
      "execution_count": null,
      "outputs": [
        {
          "output_type": "execute_result",
          "data": {
            "text/plain": [
              "{0, 1, 2, 3}"
            ]
          },
          "metadata": {},
          "execution_count": 22
        }
      ]
    },
    {
      "cell_type": "markdown",
      "source": [
        "#Code to calculate occurance of each level"
      ],
      "metadata": {
        "id": "Zr5O-dRxtZRF"
      }
    },
    {
      "cell_type": "code",
      "source": [
        "l1=0\n",
        "l2=0\n",
        "l3=0\n",
        "l4=0\n",
        "for i in range(len(relevance)):\n",
        "  if(relevance[i]==3):\n",
        "    l1+=1\n",
        "  elif(relevance[i]==2):\n",
        "    l2+=1;\n",
        "  elif(relevance[i]==1):\n",
        "    l3+=1;  \n",
        "  elif(relevance[i]==0):\n",
        "    l4+=1;"
      ],
      "metadata": {
        "id": "ux-JZtnL7HTi"
      },
      "execution_count": null,
      "outputs": []
    },
    {
      "cell_type": "code",
      "source": [
        "print(l1,l2,l3,l4)"
      ],
      "metadata": {
        "colab": {
          "base_uri": "https://localhost:8080/"
        },
        "id": "Mof8fyArsWrc",
        "outputId": "74538fd1-107b-4db3-be09-1103420c8890"
      },
      "execution_count": null,
      "outputs": [
        {
          "output_type": "stream",
          "name": "stdout",
          "text": [
            "1 17 26 59\n"
          ]
        }
      ]
    },
    {
      "cell_type": "markdown",
      "source": [
        "# here we are counting for file that give max DCG"
      ],
      "metadata": {
        "id": "Abj_iHt104cI"
      }
    },
    {
      "cell_type": "code",
      "source": [
        "count=m.factorial(l1)*m.factorial(l2)*m.factorial(l3)*m.factorial(l4)"
      ],
      "metadata": {
        "id": "L4g6aotV031z"
      },
      "execution_count": null,
      "outputs": []
    },
    {
      "cell_type": "markdown",
      "source": [
        "# total no of rearring of file that give max DCG"
      ],
      "metadata": {
        "id": "vIxZwZSLPrGa"
      }
    },
    {
      "cell_type": "code",
      "source": [
        "count"
      ],
      "metadata": {
        "colab": {
          "base_uri": "https://localhost:8080/"
        },
        "id": "FpNyFAFFn8I0",
        "outputId": "a84a2f81-9172-4a19-b1a6-e9c29527501f"
      },
      "execution_count": null,
      "outputs": [
        {
          "output_type": "execute_result",
          "data": {
            "text/plain": [
              "19893497375938370599826047614905329896936840170566570588205180312704857992695193482412686565431050240000000000000000000000"
            ]
          },
          "metadata": {},
          "execution_count": 26
        }
      ]
    },
    {
      "cell_type": "markdown",
      "source": [
        "#list2 contain top 50 docement from dataset whose qid 4"
      ],
      "metadata": {
        "id": "GI8mCOjlLdhP"
      }
    },
    {
      "cell_type": "code",
      "source": [
        "list2=[]\n",
        "for i in range(0,50):\n",
        "  list2.append(relevance[i])"
      ],
      "metadata": {
        "id": "JmXOB_jgLYOm"
      },
      "execution_count": null,
      "outputs": []
    },
    {
      "cell_type": "code",
      "source": [
        "list3=[]\n",
        "list3=list2\n",
        "list3"
      ],
      "metadata": {
        "colab": {
          "base_uri": "https://localhost:8080/"
        },
        "id": "2u0QOPQ6OvpR",
        "outputId": "80e4fc19-dd3e-4a9e-ce6d-754cdfe2ace2"
      },
      "execution_count": null,
      "outputs": [
        {
          "output_type": "execute_result",
          "data": {
            "text/plain": [
              "[0,\n",
              " 0,\n",
              " 0,\n",
              " 0,\n",
              " 1,\n",
              " 0,\n",
              " 1,\n",
              " 3,\n",
              " 0,\n",
              " 0,\n",
              " 1,\n",
              " 0,\n",
              " 0,\n",
              " 1,\n",
              " 0,\n",
              " 0,\n",
              " 0,\n",
              " 1,\n",
              " 2,\n",
              " 2,\n",
              " 1,\n",
              " 2,\n",
              " 2,\n",
              " 0,\n",
              " 1,\n",
              " 2,\n",
              " 0,\n",
              " 0,\n",
              " 0,\n",
              " 1,\n",
              " 0,\n",
              " 0,\n",
              " 1,\n",
              " 0,\n",
              " 2,\n",
              " 0,\n",
              " 2,\n",
              " 2,\n",
              " 1,\n",
              " 0,\n",
              " 2,\n",
              " 0,\n",
              " 0,\n",
              " 0,\n",
              " 0,\n",
              " 0,\n",
              " 0,\n",
              " 0,\n",
              " 0,\n",
              " 0]"
            ]
          },
          "metadata": {},
          "execution_count": 28
        }
      ]
    },
    {
      "cell_type": "code",
      "source": [
        "list2"
      ],
      "metadata": {
        "id": "sMy-L8rNLozp"
      },
      "execution_count": null,
      "outputs": []
    },
    {
      "cell_type": "markdown",
      "source": [
        "#Fun to compute DCG"
      ],
      "metadata": {
        "id": "DFh63gVCMBP9"
      }
    },
    {
      "cell_type": "code",
      "source": [
        "def DCG_fun(input):\n",
        "  dcg=input[0]\n",
        "  for i in range(1,len(input)):\n",
        "    dcg+=input[i]/m.log2(i+1)\n",
        "  return dcg  \n",
        "    "
      ],
      "metadata": {
        "id": "2hr2Z-6iL_u2"
      },
      "execution_count": null,
      "outputs": []
    },
    {
      "cell_type": "markdown",
      "source": [
        "#nDGC for top 50"
      ],
      "metadata": {
        "id": "ITBFNptRPKFi"
      }
    },
    {
      "cell_type": "code",
      "source": [
        "dcg_50=DCG_fun(list2)\n",
        "list3.sort(reverse=True)\n",
        "idcg_50=DCG_fun(list2)\n",
        "n_dcg_50=dcg_50/idcg_50\n",
        "print(dcg_50)\n",
        "print(idcg_50)\n",
        "print(n_dcg_50)"
      ],
      "metadata": {
        "colab": {
          "base_uri": "https://localhost:8080/"
        },
        "id": "oj_2mOC0MKJ_",
        "outputId": "ec81ae7f-7474-47c3-d9de-b7526e3063ca"
      },
      "execution_count": null,
      "outputs": [
        {
          "output_type": "stream",
          "name": "stdout",
          "text": [
            "7.390580969258021\n",
            "14.067092644997018\n",
            "0.5253808413557646\n"
          ]
        }
      ]
    },
    {
      "cell_type": "markdown",
      "source": [
        "# nDCG for whole data set"
      ],
      "metadata": {
        "id": "xsFz0e9nPOgQ"
      }
    },
    {
      "cell_type": "code",
      "source": [
        "dcgscore=DCG_fun(relevance)\n",
        "idcs=DCG_fun(sortedrelevance)\n",
        "ndgc=dcgscore/idcs\n",
        "print(dcgscore)\n",
        "print(idcs)\n",
        "print(ndgc)"
      ],
      "metadata": {
        "colab": {
          "base_uri": "https://localhost:8080/"
        },
        "id": "2vci6Vy6PYtG",
        "outputId": "f3f465bc-9b9a-4c04-a9a0-b455e5ab055a"
      },
      "execution_count": null,
      "outputs": [
        {
          "output_type": "stream",
          "name": "stdout",
          "text": [
            "12.550247459532576\n",
            "20.989750804831445\n",
            "0.5979226516897831\n"
          ]
        }
      ]
    },
    {
      "cell_type": "code",
      "source": [
        "list2"
      ],
      "metadata": {
        "colab": {
          "base_uri": "https://localhost:8080/"
        },
        "id": "OU12eWGZONh0",
        "outputId": "e5e3af75-833e-4e59-8153-1e06f4c143b4"
      },
      "execution_count": null,
      "outputs": [
        {
          "output_type": "execute_result",
          "data": {
            "text/plain": [
              "[3,\n",
              " 2,\n",
              " 2,\n",
              " 2,\n",
              " 2,\n",
              " 2,\n",
              " 2,\n",
              " 2,\n",
              " 2,\n",
              " 2,\n",
              " 1,\n",
              " 1,\n",
              " 1,\n",
              " 1,\n",
              " 1,\n",
              " 1,\n",
              " 1,\n",
              " 1,\n",
              " 1,\n",
              " 1,\n",
              " 0,\n",
              " 0,\n",
              " 0,\n",
              " 0,\n",
              " 0,\n",
              " 0,\n",
              " 0,\n",
              " 0,\n",
              " 0,\n",
              " 0,\n",
              " 0,\n",
              " 0,\n",
              " 0,\n",
              " 0,\n",
              " 0,\n",
              " 0,\n",
              " 0,\n",
              " 0,\n",
              " 0,\n",
              " 0,\n",
              " 0,\n",
              " 0,\n",
              " 0,\n",
              " 0,\n",
              " 0,\n",
              " 0,\n",
              " 0,\n",
              " 0,\n",
              " 0,\n",
              " 0]"
            ]
          },
          "metadata": {},
          "execution_count": 33
        }
      ]
    },
    {
      "cell_type": "markdown",
      "source": [
        "#Relevance score "
      ],
      "metadata": {
        "id": "rdmrgITp7GER"
      }
    },
    {
      "cell_type": "code",
      "source": [
        "# dict1 contain line no ,relavance in key value form\n",
        "dict1={}\n",
        "index=0\n",
        "for i in range(len(relevance)):\n",
        "  dict1[index]=relevance[i]\n",
        "  index+=1\n",
        "\n"
      ],
      "metadata": {
        "id": "DLP1ohrM7D1f"
      },
      "execution_count": null,
      "outputs": []
    },
    {
      "cell_type": "markdown",
      "source": [
        "#Sorted list in decring order"
      ],
      "metadata": {
        "id": "kLxm368Lt_Z-"
      }
    },
    {
      "cell_type": "code",
      "source": [
        "#relevance.sort(reverse=True)"
      ],
      "metadata": {
        "id": "2QldmxZMuHrQ"
      },
      "execution_count": null,
      "outputs": []
    },
    {
      "cell_type": "code",
      "source": [
        "print(relevance)"
      ],
      "metadata": {
        "colab": {
          "base_uri": "https://localhost:8080/"
        },
        "id": "l5V8HZwywYZE",
        "outputId": "3ce71195-170e-4318-a2eb-953652819810"
      },
      "execution_count": null,
      "outputs": [
        {
          "output_type": "stream",
          "name": "stdout",
          "text": [
            "[0, 0, 0, 0, 1, 0, 1, 3, 0, 0, 1, 0, 0, 1, 0, 0, 0, 1, 2, 2, 1, 2, 2, 0, 1, 2, 0, 0, 0, 1, 0, 0, 1, 0, 2, 0, 2, 2, 1, 0, 2, 0, 0, 0, 0, 0, 0, 0, 0, 0, 0, 0, 2, 1, 0, 1, 0, 0, 2, 0, 1, 2, 2, 0, 0, 0, 1, 0, 2, 0, 0, 0, 1, 0, 1, 1, 2, 0, 0, 0, 0, 0, 1, 1, 1, 1, 0, 0, 1, 0, 2, 0, 1, 0, 0, 0, 1, 0, 0, 1, 2, 1, 0]\n"
          ]
        }
      ]
    },
    {
      "cell_type": "code",
      "source": [
        "dict1"
      ],
      "metadata": {
        "id": "INRqejAe9Xmv"
      },
      "execution_count": null,
      "outputs": []
    },
    {
      "cell_type": "code",
      "source": [
        "# Sorted relevance in de-creasing order\n",
        "# dict2 contain sorted relevance \n",
        "dict2= sorted(dict1.items(), key=operator.itemgetter(1),reverse=True)\n",
        "#sorted_dict = dict(sorted(dict1.items(),key=operator.itemgetter(1),reverse=True))"
      ],
      "metadata": {
        "id": "bpvrJNPQAus1"
      },
      "execution_count": null,
      "outputs": []
    },
    {
      "cell_type": "code",
      "source": [
        "dict2=dict(dict2)\n",
        "print(dict2)"
      ],
      "metadata": {
        "id": "TCggcG13CKJ4",
        "colab": {
          "base_uri": "https://localhost:8080/"
        },
        "outputId": "6251cb06-a9ea-4070-a836-3d1ad3c89f74"
      },
      "execution_count": null,
      "outputs": [
        {
          "output_type": "stream",
          "name": "stdout",
          "text": [
            "{7: 3, 18: 2, 19: 2, 21: 2, 22: 2, 25: 2, 34: 2, 36: 2, 37: 2, 40: 2, 52: 2, 58: 2, 61: 2, 62: 2, 68: 2, 76: 2, 90: 2, 100: 2, 4: 1, 6: 1, 10: 1, 13: 1, 17: 1, 20: 1, 24: 1, 29: 1, 32: 1, 38: 1, 53: 1, 55: 1, 60: 1, 66: 1, 72: 1, 74: 1, 75: 1, 82: 1, 83: 1, 84: 1, 85: 1, 88: 1, 92: 1, 96: 1, 99: 1, 101: 1, 0: 0, 1: 0, 2: 0, 3: 0, 5: 0, 8: 0, 9: 0, 11: 0, 12: 0, 14: 0, 15: 0, 16: 0, 23: 0, 26: 0, 27: 0, 28: 0, 30: 0, 31: 0, 33: 0, 35: 0, 39: 0, 41: 0, 42: 0, 43: 0, 44: 0, 45: 0, 46: 0, 47: 0, 48: 0, 49: 0, 50: 0, 51: 0, 54: 0, 56: 0, 57: 0, 59: 0, 63: 0, 64: 0, 65: 0, 67: 0, 69: 0, 70: 0, 71: 0, 73: 0, 77: 0, 78: 0, 79: 0, 80: 0, 81: 0, 86: 0, 87: 0, 89: 0, 91: 0, 93: 0, 94: 0, 95: 0, 97: 0, 98: 0, 102: 0}\n"
          ]
        }
      ]
    },
    {
      "cell_type": "code",
      "source": [
        "type(dict2)"
      ],
      "metadata": {
        "id": "Gg9mC-jWPWxP",
        "colab": {
          "base_uri": "https://localhost:8080/"
        },
        "outputId": "645fe1e0-7d9b-4145-a494-77c0a41680e0"
      },
      "execution_count": null,
      "outputs": [
        {
          "output_type": "execute_result",
          "data": {
            "text/plain": [
              "dict"
            ]
          },
          "metadata": {},
          "execution_count": 42
        }
      ]
    },
    {
      "cell_type": "markdown",
      "source": [
        "\n",
        "#Discounted Cumulative Gain (DCG) at rank n\n",
        "#DCG = r1 + r2/log22 + r3/log23 + ... rn/log2n\n",
        "# formula for NDGC\n",
        "#nDcg=(DCG/iDCG)"
      ],
      "metadata": {
        "id": "8vue5v5IIPCL"
      }
    },
    {
      "cell_type": "code",
      "source": [
        ""
      ],
      "metadata": {
        "id": "jt48e1H2IOBc"
      },
      "execution_count": null,
      "outputs": []
    },
    {
      "cell_type": "code",
      "source": [
        "list1=dict1.values()"
      ],
      "metadata": {
        "id": "ElpdZiJHN-Vk"
      },
      "execution_count": null,
      "outputs": []
    },
    {
      "cell_type": "code",
      "source": [
        "list1"
      ],
      "metadata": {
        "id": "lP1njHtLOeOh",
        "colab": {
          "base_uri": "https://localhost:8080/"
        },
        "outputId": "f9039575-0f1c-49e8-bd8d-35e3ab0a449a"
      },
      "execution_count": null,
      "outputs": [
        {
          "output_type": "execute_result",
          "data": {
            "text/plain": [
              "dict_values([0, 0, 0, 0, 1, 0, 1, 3, 0, 0, 1, 0, 0, 1, 0, 0, 0, 1, 2, 2, 1, 2, 2, 0, 1, 2, 0, 0, 0, 1, 0, 0, 1, 0, 2, 0, 2, 2, 1, 0, 2, 0, 0, 0, 0, 0, 0, 0, 0, 0, 0, 0, 2, 1, 0, 1, 0, 0, 2, 0, 1, 2, 2, 0, 0, 0, 1, 0, 2, 0, 0, 0, 1, 0, 1, 1, 2, 0, 0, 0, 0, 0, 1, 1, 1, 1, 0, 0, 1, 0, 2, 0, 1, 0, 0, 0, 1, 0, 0, 1, 2, 1, 0])"
            ]
          },
          "metadata": {},
          "execution_count": 44
        }
      ]
    },
    {
      "cell_type": "markdown",
      "source": [
        "# 4th part of question "
      ],
      "metadata": {
        "id": "nboljHRWICGr"
      }
    },
    {
      "cell_type": "code",
      "source": [
        "total_relevant=0\n",
        "for i in listofdata:\n",
        "  if i[0]==1:\n",
        "    total_relevant+=1"
      ],
      "metadata": {
        "id": "sBDrkDvxKOrg"
      },
      "execution_count": null,
      "outputs": []
    },
    {
      "cell_type": "code",
      "source": [
        "total_relevant"
      ],
      "metadata": {
        "colab": {
          "base_uri": "https://localhost:8080/"
        },
        "id": "58Vkl_zgKQMU",
        "outputId": "d5216ad3-90b8-4674-87c0-cbf7336d05df"
      },
      "execution_count": null,
      "outputs": [
        {
          "output_type": "execute_result",
          "data": {
            "text/plain": [
              "44"
            ]
          },
          "metadata": {},
          "execution_count": 74
        }
      ]
    },
    {
      "cell_type": "code",
      "source": [
        "listofdata"
      ],
      "metadata": {
        "colab": {
          "base_uri": "https://localhost:8080/"
        },
        "id": "BBNDklBMW2sx",
        "outputId": "98fb51e7-62de-4ff6-8e38-e1161b667093"
      },
      "execution_count": null,
      "outputs": [
        {
          "output_type": "execute_result",
          "data": {
            "text/plain": [
              "[[1, 38.118056],\n",
              " [0, 28.531344],\n",
              " [1, 25.000682],\n",
              " [1, 22.704086],\n",
              " [0, 22.704086],\n",
              " [0, 22.704086],\n",
              " [1, 22.704086],\n",
              " [0, 18.944632],\n",
              " [1, 15.41397],\n",
              " [1, 15.41397],\n",
              " [0, 15.41397],\n",
              " [0, 15.41397],\n",
              " [0, 15.41397],\n",
              " [1, 15.41397],\n",
              " [1, 15.41397],\n",
              " [1, 15.41397],\n",
              " [0, 13.117374],\n",
              " [1, 9.586712],\n",
              " [1, 9.586712],\n",
              " [0, 9.586712],\n",
              " [1, 9.586712],\n",
              " [1, 9.586712],\n",
              " [1, 9.586712],\n",
              " [0, 9.586712],\n",
              " [0, 9.586712],\n",
              " [0, 9.586712],\n",
              " [1, 9.586712],\n",
              " [1, 9.586712],\n",
              " [1, 9.586712],\n",
              " [0, 5.827258],\n",
              " [0, 5.827258],\n",
              " [0, 5.827258],\n",
              " [0, 5.827258],\n",
              " [0, 5.827258],\n",
              " [0, 5.827258],\n",
              " [0, 5.827258],\n",
              " [0, 0.0],\n",
              " [0, 0.0],\n",
              " [0, 0.0],\n",
              " [0, 0.0],\n",
              " [1, 0.0],\n",
              " [0, 0.0],\n",
              " [0, 0.0],\n",
              " [1, 0.0],\n",
              " [0, 0.0],\n",
              " [1, 0.0],\n",
              " [0, 0.0],\n",
              " [0, 0.0],\n",
              " [0, 0.0],\n",
              " [1, 0.0],\n",
              " [1, 0.0],\n",
              " [1, 0.0],\n",
              " [1, 0.0],\n",
              " [0, 0.0],\n",
              " [0, 0.0],\n",
              " [0, 0.0],\n",
              " [1, 0.0],\n",
              " [0, 0.0],\n",
              " [1, 0.0],\n",
              " [0, 0.0],\n",
              " [1, 0.0],\n",
              " [1, 0.0],\n",
              " [1, 0.0],\n",
              " [0, 0.0],\n",
              " [1, 0.0],\n",
              " [0, 0.0],\n",
              " [0, 0.0],\n",
              " [0, 0.0],\n",
              " [0, 0.0],\n",
              " [1, 0.0],\n",
              " [1, 0.0],\n",
              " [0, 0.0],\n",
              " [0, 0.0],\n",
              " [1, 0.0],\n",
              " [0, 0.0],\n",
              " [0, 0.0],\n",
              " [1, 0.0],\n",
              " [0, 0.0],\n",
              " [1, 0.0],\n",
              " [0, 0.0],\n",
              " [1, 0.0],\n",
              " [1, 0.0],\n",
              " [1, 0.0],\n",
              " [0, 0.0],\n",
              " [0, 0.0],\n",
              " [0, 0.0],\n",
              " [0, 0.0],\n",
              " [1, 0.0],\n",
              " [0, 0.0],\n",
              " [0, 0.0],\n",
              " [1, 0.0],\n",
              " [0, 0.0],\n",
              " [0, 0.0],\n",
              " [1, 0.0],\n",
              " [0, 0.0],\n",
              " [0, 0.0],\n",
              " [0, 0.0],\n",
              " [1, 0.0],\n",
              " [0, 0.0],\n",
              " [0, 0.0],\n",
              " [1, 0.0],\n",
              " [1, 0.0],\n",
              " [0, 0.0]]"
            ]
          },
          "metadata": {},
          "execution_count": 52
        }
      ]
    },
    {
      "cell_type": "code",
      "source": [
        "listofdata=sorted(listofdata,key=lambda x:x[1],reverse=True)\n",
        "#print(listofdata)\n",
        "total=len(listofdata)\n",
        "precisionofdata = []\n",
        "recallofdata = []\n",
        "tpcount=0\n",
        "currentcount=1\n",
        "current=listofdata[0][0]\n",
        "precisionofdata.append(current/currentcount)\n",
        "recallofdata.append(current/total_relevant)\n",
        "for i in range(1,len(listofdata)):\n",
        "  current+=listofdata[i][0]\n",
        "  currentcount+=1;\n",
        "  precisionofdata.append(current/currentcount)\n",
        "  recallofdata.append(current/total_relevant)\n",
        "\n",
        "\n",
        "\n",
        "\n",
        "\n",
        "\n",
        "\n",
        "\n",
        "\n",
        "\n",
        "\n",
        "\n",
        "\n",
        "\n"
      ],
      "metadata": {
        "id": "ZEskOs6Yon86"
      },
      "execution_count": null,
      "outputs": []
    },
    {
      "cell_type": "code",
      "source": [
        "listofdata"
      ],
      "metadata": {
        "id": "005wgxVgXV1Q",
        "colab": {
          "base_uri": "https://localhost:8080/"
        },
        "outputId": "ef8886b4-bba2-46fa-a960-272f0fa65087"
      },
      "execution_count": null,
      "outputs": [
        {
          "output_type": "execute_result",
          "data": {
            "text/plain": [
              "[[0, 972.826451],\n",
              " [0, 612.893205],\n",
              " [0, 571.500533],\n",
              " [0, 538.388954],\n",
              " [1, 528.520116],\n",
              " [0, 463.099129],\n",
              " [1, 439.396463],\n",
              " [1, 411.010633],\n",
              " [0, 316.319283],\n",
              " [1, 311.705149],\n",
              " [0, 305.102064],\n",
              " [1, 296.023694],\n",
              " [1, 292.184568],\n",
              " [1, 270.13233],\n",
              " [1, 237.21632],\n",
              " [1, 237.21632],\n",
              " [0, 226.444023],\n",
              " [1, 217.848266],\n",
              " [0, 212.401296],\n",
              " [1, 202.442155],\n",
              " [0, 201.720933],\n",
              " [1, 200.840161],\n",
              " [0, 200.840161],\n",
              " [1, 198.480212],\n",
              " [1, 192.953467],\n",
              " [1, 188.936782],\n",
              " [0, 188.129935],\n",
              " [0, 187.934366],\n",
              " [0, 186.375414],\n",
              " [0, 185.617459],\n",
              " [0, 180.720002],\n",
              " [1, 180.24324],\n",
              " [0, 177.168378],\n",
              " [1, 176.875026],\n",
              " [0, 176.000104],\n",
              " [0, 169.844071],\n",
              " [1, 166.683125],\n",
              " [1, 161.455583],\n",
              " [0, 161.455583],\n",
              " [1, 161.15638],\n",
              " [1, 157.05992],\n",
              " [1, 156.301965],\n",
              " [0, 148.415271],\n",
              " [0, 148.415271],\n",
              " [0, 144.564444],\n",
              " [0, 143.769297],\n",
              " [1, 143.445062],\n",
              " [0, 142.9683],\n",
              " [1, 142.589323],\n",
              " [0, 142.589323],\n",
              " [1, 142.038637],\n",
              " [1, 140.479685],\n",
              " [0, 130.655061],\n",
              " [1, 121.96152],\n",
              " [1, 121.814843],\n",
              " [0, 121.007996],\n",
              " [1, 108.548081],\n",
              " [1, 103.400313],\n",
              " [0, 98.418404],\n",
              " [1, 98.148911],\n",
              " [0, 95.257458],\n",
              " [0, 95.257458],\n",
              " [1, 94.958714],\n",
              " [0, 91.717534],\n",
              " [0, 91.160998],\n",
              " [0, 90.53171],\n",
              " [1, 89.877389],\n",
              " [0, 88.171761],\n",
              " [1, 85.805962],\n",
              " [0, 85.634253],\n",
              " [1, 84.625987],\n",
              " [0, 84.625987],\n",
              " [1, 84.625987],\n",
              " [0, 84.625987],\n",
              " [1, 84.625987],\n",
              " [0, 84.625987],\n",
              " [0, 84.625987],\n",
              " [1, 81.947653],\n",
              " [1, 81.140806],\n",
              " [1, 81.140806],\n",
              " [0, 79.630746],\n",
              " [1, 77.167163],\n",
              " [0, 76.360315],\n",
              " [0, 75.987188],\n",
              " [0, 74.434086],\n",
              " [0, 73.279603],\n",
              " [0, 71.646268],\n",
              " [0, 70.466293],\n",
              " [0, 70.460443],\n",
              " [1, 69.811973],\n",
              " [0, 68.100494],\n",
              " [0, 43.297629],\n",
              " [1, 42.227139],\n",
              " [0, 22.480108],\n",
              " [0, 22.419515],\n",
              " [0, 19.313312],\n",
              " [0, 18.133337],\n",
              " [1, 18.133337],\n",
              " [0, 15.773388],\n",
              " [0, 14.972391],\n",
              " [0, 14.972391],\n",
              " [0, 3.539923],\n",
              " [0, 3.539923]]"
            ]
          },
          "metadata": {},
          "execution_count": 77
        }
      ]
    },
    {
      "cell_type": "code",
      "source": [
        "print(precisionofdata)"
      ],
      "metadata": {
        "colab": {
          "base_uri": "https://localhost:8080/"
        },
        "id": "Rwnw16ujIjdX",
        "outputId": "ef836559-00dd-4ec1-8bd6-11f04cf2612f"
      },
      "execution_count": null,
      "outputs": [
        {
          "output_type": "stream",
          "name": "stdout",
          "text": [
            "[0.0, 0.0, 0.0, 0.0, 0.2, 0.16666666666666666, 0.2857142857142857, 0.375, 0.3333333333333333, 0.4, 0.36363636363636365, 0.4166666666666667, 0.46153846153846156, 0.5, 0.5333333333333333, 0.5625, 0.5294117647058824, 0.5555555555555556, 0.5263157894736842, 0.55, 0.5238095238095238, 0.5454545454545454, 0.5217391304347826, 0.5416666666666666, 0.56, 0.5769230769230769, 0.5555555555555556, 0.5357142857142857, 0.5172413793103449, 0.5, 0.4838709677419355, 0.5, 0.48484848484848486, 0.5, 0.4857142857142857, 0.4722222222222222, 0.4864864864864865, 0.5, 0.48717948717948717, 0.5, 0.5121951219512195, 0.5238095238095238, 0.5116279069767442, 0.5, 0.4888888888888889, 0.4782608695652174, 0.48936170212765956, 0.4791666666666667, 0.4897959183673469, 0.48, 0.49019607843137253, 0.5, 0.49056603773584906, 0.5, 0.509090909090909, 0.5, 0.5087719298245614, 0.5172413793103449, 0.5084745762711864, 0.5166666666666667, 0.5081967213114754, 0.5, 0.5079365079365079, 0.5, 0.49230769230769234, 0.48484848484848486, 0.4925373134328358, 0.4852941176470588, 0.4927536231884058, 0.4857142857142857, 0.49295774647887325, 0.4861111111111111, 0.4931506849315068, 0.4864864864864865, 0.49333333333333335, 0.4868421052631579, 0.4805194805194805, 0.48717948717948717, 0.4936708860759494, 0.5, 0.49382716049382713, 0.5, 0.4939759036144578, 0.4880952380952381, 0.4823529411764706, 0.47674418604651164, 0.47126436781609193, 0.4659090909090909, 0.4606741573033708, 0.4666666666666667, 0.46153846153846156, 0.45652173913043476, 0.46236559139784944, 0.4574468085106383, 0.45263157894736844, 0.4479166666666667, 0.44329896907216493, 0.4489795918367347, 0.4444444444444444, 0.44, 0.43564356435643564, 0.43137254901960786, 0.42718446601941745]\n"
          ]
        }
      ]
    },
    {
      "cell_type": "code",
      "source": [
        "print(recallofdata)"
      ],
      "metadata": {
        "colab": {
          "base_uri": "https://localhost:8080/"
        },
        "id": "kpi26sKvYFv3",
        "outputId": "ccc45572-661b-4749-fc3a-46601c4c7c73"
      },
      "execution_count": null,
      "outputs": [
        {
          "output_type": "stream",
          "name": "stdout",
          "text": [
            "[0.0, 0.0, 0.0, 0.0, 0.022727272727272728, 0.022727272727272728, 0.045454545454545456, 0.06818181818181818, 0.06818181818181818, 0.09090909090909091, 0.09090909090909091, 0.11363636363636363, 0.13636363636363635, 0.1590909090909091, 0.18181818181818182, 0.20454545454545456, 0.20454545454545456, 0.22727272727272727, 0.22727272727272727, 0.25, 0.25, 0.2727272727272727, 0.2727272727272727, 0.29545454545454547, 0.3181818181818182, 0.3409090909090909, 0.3409090909090909, 0.3409090909090909, 0.3409090909090909, 0.3409090909090909, 0.3409090909090909, 0.36363636363636365, 0.36363636363636365, 0.38636363636363635, 0.38636363636363635, 0.38636363636363635, 0.4090909090909091, 0.4318181818181818, 0.4318181818181818, 0.45454545454545453, 0.4772727272727273, 0.5, 0.5, 0.5, 0.5, 0.5, 0.5227272727272727, 0.5227272727272727, 0.5454545454545454, 0.5454545454545454, 0.5681818181818182, 0.5909090909090909, 0.5909090909090909, 0.6136363636363636, 0.6363636363636364, 0.6363636363636364, 0.6590909090909091, 0.6818181818181818, 0.6818181818181818, 0.7045454545454546, 0.7045454545454546, 0.7045454545454546, 0.7272727272727273, 0.7272727272727273, 0.7272727272727273, 0.7272727272727273, 0.75, 0.75, 0.7727272727272727, 0.7727272727272727, 0.7954545454545454, 0.7954545454545454, 0.8181818181818182, 0.8181818181818182, 0.8409090909090909, 0.8409090909090909, 0.8409090909090909, 0.8636363636363636, 0.8863636363636364, 0.9090909090909091, 0.9090909090909091, 0.9318181818181818, 0.9318181818181818, 0.9318181818181818, 0.9318181818181818, 0.9318181818181818, 0.9318181818181818, 0.9318181818181818, 0.9318181818181818, 0.9545454545454546, 0.9545454545454546, 0.9545454545454546, 0.9772727272727273, 0.9772727272727273, 0.9772727272727273, 0.9772727272727273, 0.9772727272727273, 1.0, 1.0, 1.0, 1.0, 1.0, 1.0]\n"
          ]
        }
      ]
    },
    {
      "cell_type": "markdown",
      "source": [
        "#Precision-Recall curve for query “qid:4”."
      ],
      "metadata": {
        "id": "R9pNL5xdvHuQ"
      }
    },
    {
      "cell_type": "code",
      "source": [
        "plt.xlabel(\"Recall\")\n",
        "plt.ylabel(\"Precision\")\n",
        "plt.title(\"Precision-Recall curve\")\n",
        "plt.plot(recallofdata,precisionofdata)\n",
        "plt.show()"
      ],
      "metadata": {
        "colab": {
          "base_uri": "https://localhost:8080/",
          "height": 295
        },
        "id": "XGftE6KsvVLg",
        "outputId": "6dfa00a6-fbe3-4746-ef58-005868fc3128"
      },
      "execution_count": null,
      "outputs": [
        {
          "output_type": "display_data",
          "data": {
            "text/plain": [
              "<Figure size 432x288 with 1 Axes>"
            ],
            "image/png": "[encoded data removed]"
          },
          "metadata": {
            "needs_background": "light"
          }
        }
      ]
    }
  ]
}