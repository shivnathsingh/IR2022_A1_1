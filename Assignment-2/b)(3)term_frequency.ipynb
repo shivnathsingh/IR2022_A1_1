{
  "nbformat": 4,
  "nbformat_minor": 0,
  "metadata": {
    "colab": {
      "name": "b)(3)term frequency.ipynb",
      "provenance": [],
      "collapsed_sections": []
    },
    "kernelspec": {
      "name": "python3",
      "display_name": "Python 3"
    },
    "language_info": {
      "name": "python"
    }
  },
  "cells": [
    {
      "cell_type": "markdown",
      "source": [
        "Term frequency f(t,d)/f(t‘, d)"
      ],
      "metadata": {
        "id": "pNfD87P_FFtX"
      }
    },
    {
      "cell_type": "markdown",
      "source": [
        " how often a word appears in a document, divided by how many words there are"
      ],
      "metadata": {
        "id": "uF8aE4KjFNvd"
      }
    },
    {
      "cell_type": "code",
      "execution_count": null,
      "metadata": {
        "id": "LkCHC2W_EmW0"
      },
      "outputs": [],
      "source": [
        "import glob\n",
        "import os\n",
        "import string\n",
        "import nltk\n",
        "import re\n",
        "import pandas as pd\n",
        "import numpy as np"
      ]
    },
    {
      "cell_type": "code",
      "source": [
        "P=\"/content/drive/MyDrive/Humor,Hist,Media,Food/*\""
      ],
      "metadata": {
        "id": "pp0slNZgFHpi"
      },
      "execution_count": null,
      "outputs": []
    },
    {
      "cell_type": "code",
      "source": [
        "nltk.download('punkt')\n",
        "nltk.download('stopwords')\n",
        "nltk.download('wordnet')"
      ],
      "metadata": {
        "colab": {
          "base_uri": "https://localhost:8080/"
        },
        "id": "sTxdtJ12FeWM",
        "outputId": "5be2d4a8-8af0-41f2-d304-d42a6990bdea"
      },
      "execution_count": null,
      "outputs": [
        {
          "output_type": "stream",
          "name": "stdout",
          "text": [
            "[nltk_data] Downloading package punkt to /root/nltk_data...\n",
            "[nltk_data]   Package punkt is already up-to-date!\n",
            "[nltk_data] Downloading package stopwords to /root/nltk_data...\n",
            "[nltk_data]   Package stopwords is already up-to-date!\n",
            "[nltk_data] Downloading package wordnet to /root/nltk_data...\n",
            "[nltk_data]   Package wordnet is already up-to-date!\n"
          ]
        },
        {
          "output_type": "execute_result",
          "data": {
            "text/plain": [
              "True"
            ]
          },
          "metadata": {},
          "execution_count": 31
        }
      ]
    },
    {
      "cell_type": "code",
      "source": [
        "from nltk import word_tokenize\n",
        "from nltk.stem import WordNetLemmatizer\n",
        "from nltk.corpus import stopwords\n",
        "s=stopwords.words('english')"
      ],
      "metadata": {
        "id": "VQ16v9eUFiqL"
      },
      "execution_count": null,
      "outputs": []
    },
    {
      "cell_type": "code",
      "source": [
        "a=[]\n",
        "for i in glob.glob(P):\n",
        "  a.append(\"/content/drive/MyDrive/Humor,Hist,Media,Food/\"+os.path.basename(i))"
      ],
      "metadata": {
        "id": "pz8bgRC0FlvX"
      },
      "execution_count": null,
      "outputs": []
    },
    {
      "cell_type": "code",
      "source": [
        "len(a)"
      ],
      "metadata": {
        "colab": {
          "base_uri": "https://localhost:8080/"
        },
        "id": "bff8F80cF59V",
        "outputId": "f027fb91-7b2f-45d6-aff4-f1abd8025369"
      },
      "execution_count": null,
      "outputs": [
        {
          "output_type": "execute_result",
          "data": {
            "text/plain": [
              "1133"
            ]
          },
          "metadata": {},
          "execution_count": 34
        }
      ]
    },
    {
      "cell_type": "code",
      "source": [
        "b=[]\n",
        "for i in glob.glob(P):\n",
        "  b.append(os.path.basename(i))"
      ],
      "metadata": {
        "id": "eLWoNpgyForO"
      },
      "execution_count": null,
      "outputs": []
    },
    {
      "cell_type": "code",
      "source": [
        "from tqdm import tqdm"
      ],
      "metadata": {
        "id": "GSAF2V0IFr39"
      },
      "execution_count": null,
      "outputs": []
    },
    {
      "cell_type": "code",
      "source": [
        "import os\n",
        "import glob\n",
        "import pandas as pd\n",
        "import numpy as np\n",
        "import nltk\n",
        "import re\n",
        "nltk.download('stopwords')\n",
        "import nltk\n",
        "nltk.download('wordnet')\n",
        "from nltk.stem import WordNetLemmatizer\n",
        "lemmatizer = WordNetLemmatizer() \n",
        "\n",
        "import nltk\n",
        "nltk.download('stopwords')  \n",
        "\n",
        "\n",
        "nltk.download('punkt')\n",
        "from nltk.corpus import stopwords\n",
        "from nltk.tokenize import word_tokenize\n",
        "from gensim.parsing.preprocessing import remove_stopwords\n",
        "from nltk.stem import WordNetLemmatizer\n",
        "import nltk\n",
        "import gensim"
      ],
      "metadata": {
        "colab": {
          "base_uri": "https://localhost:8080/"
        },
        "id": "VaSQBEhiFuee",
        "outputId": "516d3760-0fac-4a95-94ce-2feab5fd3cde"
      },
      "execution_count": null,
      "outputs": [
        {
          "output_type": "stream",
          "name": "stdout",
          "text": [
            "[nltk_data] Downloading package stopwords to /root/nltk_data...\n",
            "[nltk_data]   Package stopwords is already up-to-date!\n",
            "[nltk_data] Downloading package wordnet to /root/nltk_data...\n",
            "[nltk_data]   Package wordnet is already up-to-date!\n",
            "[nltk_data] Downloading package stopwords to /root/nltk_data...\n",
            "[nltk_data]   Package stopwords is already up-to-date!\n",
            "[nltk_data] Downloading package punkt to /root/nltk_data...\n",
            "[nltk_data]   Package punkt is already up-to-date!\n"
          ]
        }
      ]
    },
    {
      "cell_type": "code",
      "source": [
        "stop_words = set(stopwords.words('english'));\n",
        "p_ind={}\n",
        "dict=[]\n",
        "e=[]\n",
        "voc=[]\n",
        "docid=1\n",
        "for i in tqdm(range(len(a))):\n",
        "  with open(a[i],encoding=\"utf8\",errors='ignore') as file:\n",
        "    c=[]\n",
        "    text =file.read()\n",
        "    text=text.lower()   #to convert in to lower case \n",
        "    text=text.strip()\n",
        "    text = re.sub(r'[^\\w\\s]', ' ', text)  # To remove puntuation\n",
        "    word_tokens = word_tokenize(text)   # toknization \n",
        "    final_tokens=[w for w in word_tokens if w not in stop_words] # stopword remove\n",
        "    final_tokens=[ lemmatizer.lemmatize(word) for word in final_tokens]\n",
        "    final_tokens = [x for x in final_tokens if not (x.isdigit() or x[0] == '-' and x[1:].isdigit())]\n",
        "    final_tokens=set(final_tokens)\n",
        "    for term in final_tokens:\n",
        "      if term not in c:\n",
        "        c.append(term)\n",
        "        voc.append(term)\n",
        "    dict.append(c)  \n",
        "    e.append(voc)  \n",
        "    counter=0\n",
        "    for z in final_tokens:\n",
        "      if z in p_ind:\n",
        "          if docid in p_ind[z][1]:\n",
        "            p_ind[z][1][docid].append(counter)\n",
        "          else:\n",
        "            p_ind[z][0]=p_ind[z][0]+1\n",
        "            p_ind[z][1][docid]=[counter]\n",
        "            counter+=1\n",
        "      else:\n",
        "        p_ind[z]=[]\n",
        "        p_ind[z].append(1)\n",
        "        p_ind[z].append({})\n",
        "        p_ind[z][1][docid]=[counter]\n",
        "        counter=counter+1\n",
        "    docid+=1"
      ],
      "metadata": {
        "colab": {
          "base_uri": "https://localhost:8080/"
        },
        "id": "yL5s7E8gFx2F",
        "outputId": "fe947423-fb30-4267-e7de-cd4d0dbcbdbb"
      },
      "execution_count": null,
      "outputs": [
        {
          "output_type": "stream",
          "name": "stderr",
          "text": [
            "100%|██████████| 1133/1133 [00:26<00:00, 42.26it/s]\n"
          ]
        }
      ]
    },
    {
      "cell_type": "code",
      "source": [
        "voc=list(set(voc))"
      ],
      "metadata": {
        "id": "dgKcSxrTF4Kg"
      },
      "execution_count": null,
      "outputs": []
    },
    {
      "cell_type": "code",
      "source": [
        "counter=0\n",
        "for x in range(1):\n",
        "  print(\"\")\n",
        "for x in range(1):\n",
        "  print(\"\")\n",
        "list_pos={}\n",
        "for i in dict:\n",
        "  counter+=1\n",
        "  for j in i:\n",
        "    if j in list_pos:\n",
        "      list_pos[j].append(counter)\n",
        "      for x in range(1):\n",
        "        print(\"\")\n",
        "    else:\n",
        "      list_pos[j]=[counter]\n",
        "      for x in range(1):\n",
        "        print(\"\")\n",
        "for x in range(1):\n",
        "  print(\"\")\n"
      ],
      "metadata": {
        "colab": {
          "base_uri": "https://localhost:8080/"
        },
        "id": "9HnDxFRIGPP-",
        "outputId": "2723b2cc-d011-42bc-c498-1be241771ccf"
      },
      "execution_count": null,
      "outputs": [
        {
          "output_type": "stream",
          "name": "stdout",
          "text": [
            "\n",
            "\n",
            "\n",
            "\n",
            "\n"
          ]
        }
      ]
    },
    {
      "cell_type": "code",
      "source": [
        "import math"
      ],
      "metadata": {
        "id": "S_bJ1xQFGQFF"
      },
      "execution_count": null,
      "outputs": []
    },
    {
      "cell_type": "code",
      "source": [
        "for x in range(1):\n",
        "  print(\"\")\n",
        "idf={}                           \n",
        "for i in tqdm(range(len(voc))):\n",
        "  a=len(list_pos[voc[i]])\n",
        "  b=len(dict)\n",
        "  idf[voc[i]]=math.log((b/a+1),10) \n",
        "for x in range(1):\n",
        "  print(\"\")"
      ],
      "metadata": {
        "colab": {
          "base_uri": "https://localhost:8080/"
        },
        "id": "MKyjP9zKGSt0",
        "outputId": "a07bcc4a-e5a7-4b48-895e-0ae565e48b77"
      },
      "execution_count": null,
      "outputs": [
        {
          "output_type": "stream",
          "name": "stdout",
          "text": [
            "\n"
          ]
        },
        {
          "output_type": "stream",
          "name": "stderr",
          "text": [
            "100%|██████████| 60765/60765 [00:00<00:00, 448582.15it/s]"
          ]
        },
        {
          "output_type": "stream",
          "name": "stdout",
          "text": [
            "\n"
          ]
        },
        {
          "output_type": "stream",
          "name": "stderr",
          "text": [
            "\n"
          ]
        }
      ]
    },
    {
      "cell_type": "code",
      "source": [
        "idf"
      ],
      "metadata": {
        "colab": {
          "base_uri": "https://localhost:8080/"
        },
        "id": "t8F1qSMWGVYQ",
        "outputId": "5fb71e29-b41e-411c-9e84-dfa085bcd02d"
      },
      "execution_count": null,
      "outputs": [
        {
          "output_type": "execute_result",
          "data": {
            "text/plain": [
              "{'illusory': 3.0546130545568873,\n",
              " 'testa': 3.0546130545568873,\n",
              " '______10': 3.0546130545568873,\n",
              " 'facilitating': 2.4537004733597723,\n",
              " 'dishonarable': 3.0546130545568873,\n",
              " 'detabooization': 3.0546130545568873,\n",
              " 'crotch': 2.3571722577230334,\n",
              " 'unmoral': 3.0546130545568873,\n",
              " 'giolito': 3.0546130545568873,\n",
              " 'irrelevant': 2.0580462303952816,\n",
              " 'truely': 2.4537004733597723,\n",
              " 'spitbol': 2.75396586586516,\n",
              " 'zone': 1.3997841493704077,\n",
              " 'tucked': 2.211806811322216,\n",
              " 'portsmouth': 2.75396586586516,\n",
              " 'penlight': 3.0546130545568873,\n",
              " 'crook': 1.782698878134364,\n",
              " 'drowsiness': 2.75396586586516,\n",
              " 'linked': 1.782698878134364,\n",
              " 'obedient': 2.3571722577230334,\n",
              " 'dosomething': 3.0546130545568873,\n",
              " 'paramedic': 3.0546130545568873,\n",
              " 'avoirdupois': 3.0546130545568873,\n",
              " 'fireside': 2.4537004733597723,\n",
              " 'macro': 1.9452412653245341,\n",
              " 'nuapple': 3.0546130545568873,\n",
              " 'intregal': 3.0546130545568873,\n",
              " 'bolzano': 2.5782570766553374,\n",
              " 'vocab': 2.75396586586516,\n",
              " 'bimbald': 3.0546130545568873,\n",
              " 'ifb': 2.75396586586516,\n",
              " 'saibusa': 3.0546130545568873,\n",
              " 'knoxville': 2.4537004733597723,\n",
              " 'dislocating': 2.5782570766553374,\n",
              " 'presson': 3.0546130545568873,\n",
              " 'geta': 2.5782570766553374,\n",
              " 'elusiveness': 3.0546130545568873,\n",
              " 'veracity': 2.75396586586516,\n",
              " 'overreaction': 3.0546130545568873,\n",
              " 'epislon': 3.0546130545568873,\n",
              " 'raider': 1.9796242406282818,\n",
              " 'bronxville': 3.0546130545568873,\n",
              " 'appurtenance': 3.0546130545568873,\n",
              " 'titanium': 2.5782570766553374,\n",
              " 'condeigo': 3.0546130545568873,\n",
              " 'executes': 2.5782570766553374,\n",
              " 'glazkov': 3.0546130545568873,\n",
              " 'mobilizes': 2.75396586586516,\n",
              " 'definatly': 3.0546130545568873,\n",
              " 'dblatttorted': 3.0546130545568873,\n",
              " 'pinstriping': 3.0546130545568873,\n",
              " 'guise': 2.154195657426271,\n",
              " 'gristle': 2.75396586586516,\n",
              " 'deem': 3.0546130545568873,\n",
              " 'repeat': 1.1331839475969605,\n",
              " 'stanford': 1.9796242406282818,\n",
              " 'vaporization': 3.0546130545568873,\n",
              " 'chanarin': 3.0546130545568873,\n",
              " 'murdoch': 3.0546130545568873,\n",
              " 'tan': 1.8058028185264856,\n",
              " 'driscoll': 2.5782570766553374,\n",
              " 'implies': 1.8838506290062733,\n",
              " 'prehistorically': 3.0546130545568873,\n",
              " 'alittle': 3.0546130545568873,\n",
              " 'banzie': 2.75396586586516,\n",
              " 'excercise': 2.5782570766553374,\n",
              " 'swerving': 2.75396586586516,\n",
              " 'tupehman': 2.4537004733597723,\n",
              " 'benihana': 3.0546130545568873,\n",
              " 'rollicking': 2.75396586586516,\n",
              " 'annually': 2.5782570766553374,\n",
              " 'unison': 2.3571722577230334,\n",
              " 'joe': 1.1910495404525718,\n",
              " 'naoko': 3.0546130545568873,\n",
              " 'sambo': 3.0546130545568873,\n",
              " 'freddie': 2.5782570766553374,\n",
              " 'trouble': 0.993505116925213,\n",
              " 'campsite': 2.75396586586516,\n",
              " 'friar': 2.5782570766553374,\n",
              " 'hyphen': 2.3571722577230334,\n",
              " 'trekkie': 3.0546130545568873,\n",
              " '24pm': 3.0546130545568873,\n",
              " 'kouichi': 3.0546130545568873,\n",
              " 'govoreet': 3.0546130545568873,\n",
              " 'interrogates': 2.75396586586516,\n",
              " 'autocracy': 2.75396586586516,\n",
              " 'howya': 3.0546130545568873,\n",
              " 'raked': 2.75396586586516,\n",
              " 'gravity': 1.5355919390031147,\n",
              " 'breathed': 2.154195657426271,\n",
              " 'eraser': 2.211806811322216,\n",
              " 'nurmi': 3.0546130545568873,\n",
              " 'overenthusiastic': 2.75396586586516,\n",
              " 'routed': 2.4537004733597723,\n",
              " 'stalling': 3.0546130545568873,\n",
              " 'gened': 3.0546130545568873,\n",
              " 'discuise': 3.0546130545568873,\n",
              " 'officiant': 3.0546130545568873,\n",
              " 'true': 0.7727680198170805,\n",
              " 'trion': 3.0546130545568873,\n",
              " 'fright': 2.154195657426271,\n",
              " 'surviv': 3.0546130545568873,\n",
              " 'superficially': 2.75396586586516,\n",
              " 'rebellious': 2.2783724736954567,\n",
              " 'kanketsu': 3.0546130545568873,\n",
              " 'synthesized': 2.211806811322216,\n",
              " 'hte': 3.0546130545568873,\n",
              " 'bamf': 3.0546130545568873,\n",
              " 'wheeler': 2.0170333392987803,\n",
              " 'zenith': 2.3571722577230334,\n",
              " 'kikou': 3.0546130545568873,\n",
              " 'pecadillo': 3.0546130545568873,\n",
              " 'spelterwasser': 2.75396586586516,\n",
              " 'obfuscated': 2.3571722577230334,\n",
              " 'theron': 3.0546130545568873,\n",
              " 'fill': 0.9815165943059868,\n",
              " 'electricity': 1.739986514085793,\n",
              " 'soldiering': 3.0546130545568873,\n",
              " 'prodigious': 2.75396586586516,\n",
              " 'deveined': 2.154195657426271,\n",
              " 'complq4': 2.75396586586516,\n",
              " 'hefty': 1.9796242406282818,\n",
              " 'upscale': 2.3571722577230334,\n",
              " 'cafe': 1.8302489189753377,\n",
              " 'se5': 3.0546130545568873,\n",
              " 'relied': 2.4537004733597723,\n",
              " 'outbound': 2.75396586586516,\n",
              " 'mall': 1.649110087992778,\n",
              " 'manu': 2.5782570766553374,\n",
              " 'thunderbird': 2.2783724736954567,\n",
              " 'unquantified': 3.0546130545568873,\n",
              " 'tiernan': 3.0546130545568873,\n",
              " 'pilloken': 3.0546130545568873,\n",
              " 'atacc': 3.0546130545568873,\n",
              " 'peculiarly': 3.0546130545568873,\n",
              " 'freddy': 2.0170333392987803,\n",
              " 'flowsy': 3.0546130545568873,\n",
              " 'sifting': 3.0546130545568873,\n",
              " 'sputnik': 2.5782570766553374,\n",
              " 'organization': 0.96708315379955,\n",
              " 'hauger': 3.0546130545568873,\n",
              " 'nddl': 3.0546130545568873,\n",
              " 'laptop': 2.154195657426271,\n",
              " 'maureen': 2.4537004733597723,\n",
              " 'boxed': 2.75396586586516,\n",
              " 'blowup': 3.0546130545568873,\n",
              " 'traal': 3.0546130545568873,\n",
              " 'triangular': 2.211806811322216,\n",
              " 'fendahl': 2.75396586586516,\n",
              " 'druguser': 3.0546130545568873,\n",
              " 'unneccesary': 3.0546130545568873,\n",
              " 'yeggowan': 3.0546130545568873,\n",
              " 'hwiid': 3.0546130545568873,\n",
              " 'outmaneuver': 3.0546130545568873,\n",
              " 'sagged': 3.0546130545568873,\n",
              " 'foremast': 2.75396586586516,\n",
              " 'tetraganalobus': 3.0546130545568873,\n",
              " 'christian': 1.3997841493704077,\n",
              " 'recooked': 3.0546130545568873,\n",
              " 'bigshots': 3.0546130545568873,\n",
              " 'catholic': 1.739986514085793,\n",
              " 'metagenics': 3.0546130545568873,\n",
              " 'rehydrate': 3.0546130545568873,\n",
              " 'stained': 2.0170333392987803,\n",
              " 'apearing': 3.0546130545568873,\n",
              " 'maze': 2.211806811322216,\n",
              " 'epic': 1.6657685507193798,\n",
              " 'japanese': 1.382421396516723,\n",
              " 'gorbachef': 3.0546130545568873,\n",
              " 'grime': 2.3571722577230334,\n",
              " '6out': 3.0546130545568873,\n",
              " 'bennigans': 3.0546130545568873,\n",
              " 'ride': 1.1707624255506142,\n",
              " 'bearcode': 3.0546130545568873,\n",
              " 'separate': 1.207005670893413,\n",
              " 'sluava': 3.0546130545568873,\n",
              " 'fes': 2.5782570766553374,\n",
              " 'csmvax': 3.0546130545568873,\n",
              " 'welding': 2.2783724736954567,\n",
              " 'aura': 2.103423594470504,\n",
              " 'asakura': 2.75396586586516,\n",
              " 'govern': 2.4537004733597723,\n",
              " 'overtaken': 2.4537004733597723,\n",
              " 'sticker': 1.8058028185264856,\n",
              " 'witnessing': 2.2783724736954567,\n",
              " 'oddo': 3.0546130545568873,\n",
              " 'crackerjack': 2.5782570766553374,\n",
              " 'stire': 3.0546130545568873,\n",
              " 'murries': 3.0546130545568873,\n",
              " 'remodeled': 3.0546130545568873,\n",
              " 'greenest': 3.0546130545568873,\n",
              " 'gain': 1.2470340946966696,\n",
              " 's1103': 3.0546130545568873,\n",
              " 'pearson': 2.75396586586516,\n",
              " 'squidly': 3.0546130545568873,\n",
              " 'spluttering': 3.0546130545568873,\n",
              " 'peeled': 1.6028081301553556,\n",
              " 'electromagnetic': 2.0580462303952816,\n",
              " 'rz': 3.0546130545568873,\n",
              " 'butch': 2.4537004733597723,\n",
              " 'antioxidant': 3.0546130545568873,\n",
              " 'dank': 2.75396586586516,\n",
              " 'graphing': 3.0546130545568873,\n",
              " 'squirted': 3.0546130545568873,\n",
              " 'decaff': 3.0546130545568873,\n",
              " 'torrented': 3.0546130545568873,\n",
              " 'flurry': 2.5782570766553374,\n",
              " '7bit': 3.0546130545568873,\n",
              " 'loooong': 2.4537004733597723,\n",
              " 'murphu': 3.0546130545568873,\n",
              " 'brilliantly': 2.5782570766553374,\n",
              " 'bachelor': 1.8838506290062733,\n",
              " 'eilber': 2.75396586586516,\n",
              " 'unfolded': 2.75396586586516,\n",
              " 'boilermaker': 3.0546130545568873,\n",
              " 'minding': 2.3571722577230334,\n",
              " 'kramden': 3.0546130545568873,\n",
              " '1992dec20': 3.0546130545568873,\n",
              " 'naming': 2.3571722577230334,\n",
              " 'haemoglobin': 2.75396586586516,\n",
              " 'macnaughton': 3.0546130545568873,\n",
              " 'boonfuck': 3.0546130545568873,\n",
              " 'steedman': 2.75396586586516,\n",
              " 'holt': 3.0546130545568873,\n",
              " 'javascript': 2.75396586586516,\n",
              " 'kwik': 2.75396586586516,\n",
              " 'peyton': 3.0546130545568873,\n",
              " 'direc': 3.0546130545568873,\n",
              " 'quashed': 3.0546130545568873,\n",
              " 'techincal': 3.0546130545568873,\n",
              " 'dipper': 2.75396586586516,\n",
              " 'silardi': 3.0546130545568873,\n",
              " 'booming': 2.211806811322216,\n",
              " 'harted': 3.0546130545568873,\n",
              " 'addled': 3.0546130545568873,\n",
              " 'universally': 2.0580462303952816,\n",
              " 'drool': 1.85620004603236,\n",
              " 'circuitous': 2.5782570766553374,\n",
              " 'scrooge': 2.75396586586516,\n",
              " 'mordialloc': 3.0546130545568873,\n",
              " 'unoccupied': 2.75396586586516,\n",
              " 'parachuting': 2.75396586586516,\n",
              " 'ful': 2.5782570766553374,\n",
              " 'bedemir': 3.0546130545568873,\n",
              " '__divorced': 3.0546130545568873,\n",
              " '579545mhz': 3.0546130545568873,\n",
              " 'peal': 2.4537004733597723,\n",
              " 'tibetan': 2.4537004733597723,\n",
              " 'modular': 2.211806811322216,\n",
              " 'cbv': 3.0546130545568873,\n",
              " 'norville': 3.0546130545568873,\n",
              " 'consensus': 2.3571722577230334,\n",
              " 'perceive': 2.154195657426271,\n",
              " 'kashrut': 3.0546130545568873,\n",
              " 'eather': 3.0546130545568873,\n",
              " 'goust': 3.0546130545568873,\n",
              " 'endows': 3.0546130545568873,\n",
              " 'entering': 1.5115120103945527,\n",
              " 'perpetual': 2.3571722577230334,\n",
              " 'suelch': 3.0546130545568873,\n",
              " 'drywallers': 3.0546130545568873,\n",
              " '_john': 3.0546130545568873,\n",
              " 'crackup': 3.0546130545568873,\n",
              " '13ghz': 3.0546130545568873,\n",
              " 'congregate': 2.5782570766553374,\n",
              " 'gameboard': 3.0546130545568873,\n",
              " 'forensics': 3.0546130545568873,\n",
              " 'dnr': 2.75396586586516,\n",
              " 'curdle': 3.0546130545568873,\n",
              " 'soff': 3.0546130545568873,\n",
              " 'i': 3.0546130545568873,\n",
              " 'refining': 2.75396586586516,\n",
              " 'statecraft': 3.0546130545568873,\n",
              " 'demanding': 1.7607993116307175,\n",
              " '445c': 3.0546130545568873,\n",
              " 'kyobardi': 3.0546130545568873,\n",
              " 'plaaying': 3.0546130545568873,\n",
              " 'bagger': 2.5782570766553374,\n",
              " 'donnait': 3.0546130545568873,\n",
              " 'tinkerbell': 2.75396586586516,\n",
              " 'lauricella': 3.0546130545568873,\n",
              " 'deputy': 1.85620004603236,\n",
              " 'starbase': 2.75396586586516,\n",
              " 'senpuukyaku': 3.0546130545568873,\n",
              " 'minirockets': 3.0546130545568873,\n",
              " 'ciit85': 3.0546130545568873,\n",
              " 'nuptials': 3.0546130545568873,\n",
              " 'greer': 2.3571722577230334,\n",
              " 'disarray': 3.0546130545568873,\n",
              " 'sombrero': 2.4537004733597723,\n",
              " 'mirf': 3.0546130545568873,\n",
              " 'len': 2.2783724736954567,\n",
              " 'confided': 3.0546130545568873,\n",
              " 'drippy': 3.0546130545568873,\n",
              " 'wrot': 3.0546130545568873,\n",
              " 'cubicle': 2.2783724736954567,\n",
              " 'chartoff': 3.0546130545568873,\n",
              " '369c': 3.0546130545568873,\n",
              " 'brighten': 3.0546130545568873,\n",
              " 'gilroy': 3.0546130545568873,\n",
              " 'maximum': 1.3997841493704077,\n",
              " 'nrdg575': 3.0546130545568873,\n",
              " 'scarf': 2.4537004733597723,\n",
              " 'inflation': 1.9452412653245341,\n",
              " 'phallus': 3.0546130545568873,\n",
              " 'posture': 2.3571722577230334,\n",
              " 'heh': 1.633094225067931,\n",
              " 'whined': 2.4537004733597723,\n",
              " 'chubaca': 2.75396586586516,\n",
              " 'sentimentalist': 3.0546130545568873,\n",
              " 'cyke': 3.0546130545568873,\n",
              " 'willoughby': 2.75396586586516,\n",
              " 'beeb': 3.0546130545568873,\n",
              " 'pacachek': 3.0546130545568873,\n",
              " 'dotto': 3.0546130545568873,\n",
              " 'soundly': 2.4537004733597723,\n",
              " 'bimbedroom': 3.0546130545568873,\n",
              " 'legit': 2.3571722577230334,\n",
              " 'stx': 3.0546130545568873,\n",
              " 'oldest': 1.8058028185264856,\n",
              " 'hardware': 1.31248376791984,\n",
              " '_5': 3.0546130545568873,\n",
              " 'mauled': 2.5782570766553374,\n",
              " 'apj': 3.0546130545568873,\n",
              " 'tightening': 2.75396586586516,\n",
              " 'womankind': 3.0546130545568873,\n",
              " 'chisit': 3.0546130545568873,\n",
              " 'unm': 3.0546130545568873,\n",
              " 'steadfastly': 2.5782570766553374,\n",
              " 'chap': 1.9796242406282818,\n",
              " 'multiprogramming': 3.0546130545568873,\n",
              " 'proclaim': 2.211806811322216,\n",
              " 'aos': 2.75396586586516,\n",
              " 'quinine': 3.0546130545568873,\n",
              " 'immigrating': 3.0546130545568873,\n",
              " 'mcpee': 3.0546130545568873,\n",
              " 'dear': 1.1331839475969605,\n",
              " 'haze': 2.0170333392987803,\n",
              " 'bayswater': 3.0546130545568873,\n",
              " 'demean': 3.0546130545568873,\n",
              " 'aplets': 2.75396586586516,\n",
              " 'hindle': 3.0546130545568873,\n",
              " 'galosh': 3.0546130545568873,\n",
              " 'urban': 1.6176741883963546,\n",
              " 'tatsuaki': 3.0546130545568873,\n",
              " 'donates': 2.4537004733597723,\n",
              " 'fertilized': 2.75396586586516,\n",
              " 'peeked': 2.3571722577230334,\n",
              " 'groomer': 3.0546130545568873,\n",
              " 'interacting': 3.0546130545568873,\n",
              " 'pcl': 3.0546130545568873,\n",
              " 'pointing': 1.5115120103945527,\n",
              " 'diglycerides': 3.0546130545568873,\n",
              " 'reproduce': 1.85620004603236,\n",
              " 'ipe': 3.0546130545568873,\n",
              " 'singlet': 3.0546130545568873,\n",
              " 'nanette': 3.0546130545568873,\n",
              " 'minoxidol': 3.0546130545568873,\n",
              " 'terrifies': 2.5782570766553374,\n",
              " 'fe2o3': 2.5782570766553374,\n",
              " 'dyke': 1.9796242406282818,\n",
              " 'said': 0.6195946168091201,\n",
              " 'impedance': 3.0546130545568873,\n",
              " 'as10g3': 3.0546130545568873,\n",
              " 'balance': 1.417932776675739,\n",
              " 'roasting': 2.0580462303952816,\n",
              " 'apologized': 2.4537004733597723,\n",
              " 'regan': 2.75396586586516,\n",
              " 'antiqnon': 3.0546130545568873,\n",
              " '1c': 2.4537004733597723,\n",
              " 'seasoning': 1.7012299980669172,\n",
              " 'cryptobuggaboo': 3.0546130545568873,\n",
              " 'speeching': 2.75396586586516,\n",
              " 'moi': 2.5782570766553374,\n",
              " 'bluddyrose': 3.0546130545568873,\n",
              " 'damndest': 3.0546130545568873,\n",
              " 'spacewar': 2.75396586586516,\n",
              " 'thicket': 3.0546130545568873,\n",
              " 'gc': 2.5782570766553374,\n",
              " 'ordered': 1.4369388661605331,\n",
              " 'coted': 3.0546130545568873,\n",
              " 'aerosol': 2.3571722577230334,\n",
              " 'unbearable': 2.3571722577230334,\n",
              " 'incite': 3.0546130545568873,\n",
              " 'hagan': 3.0546130545568873,\n",
              " 'block': 1.1287400254884488,\n",
              " 'biin': 3.0546130545568873,\n",
              " 'nyx': 2.103423594470504,\n",
              " 'hyperbole': 2.4537004733597723,\n",
              " 'gt2783c': 3.0546130545568873,\n",
              " 'cactus': 2.154195657426271,\n",
              " 'bc101': 3.0546130545568873,\n",
              " 'caryophyllene': 3.0546130545568873,\n",
              " 'mog': 2.75396586586516,\n",
              " 'lodwick': 2.75396586586516,\n",
              " 'forlane': 3.0546130545568873,\n",
              " 'microorganism': 2.5782570766553374,\n",
              " 'dead': 0.7330816769228006,\n",
              " 'peace': 1.1157167091273055,\n",
              " 'ashcroft': 3.0546130545568873,\n",
              " 'recognising': 3.0546130545568873,\n",
              " 'dehydrate': 3.0546130545568873,\n",
              " 'therof': 3.0546130545568873,\n",
              " 'paralysis': 2.3571722577230334,\n",
              " 'amiable': 2.75396586586516,\n",
              " '7f06': 2.75396586586516,\n",
              " 'britania': 3.0546130545568873,\n",
              " 'fevent': 3.0546130545568873,\n",
              " 'electromechanical': 2.5782570766553374,\n",
              " 'masturbation': 2.0580462303952816,\n",
              " 'jn23': 3.0546130545568873,\n",
              " 'sarah': 1.8302489189753377,\n",
              " 'etive': 3.0546130545568873,\n",
              " 'popualr': 3.0546130545568873,\n",
              " 'learnin': 2.5782570766553374,\n",
              " 'zhora': 2.75396586586516,\n",
              " 'garlec': 3.0546130545568873,\n",
              " 'misunderstanding': 2.103423594470504,\n",
              " 'dem': 2.75396586586516,\n",
              " 'hyannis': 3.0546130545568873,\n",
              " 'wacked': 3.0546130545568873,\n",
              " 'webbed': 2.75396586586516,\n",
              " 'restaurnat': 3.0546130545568873,\n",
              " 'eiji': 3.0546130545568873,\n",
              " 'catflap': 2.5782570766553374,\n",
              " 'zizzy': 3.0546130545568873,\n",
              " 'encourages': 2.211806811322216,\n",
              " 'ump': 3.0546130545568873,\n",
              " 'digestability': 3.0546130545568873,\n",
              " 'accorded': 3.0546130545568873,\n",
              " 'upheaval': 2.75396586586516,\n",
              " 'poit': 2.75396586586516,\n",
              " 'lampshade': 2.75396586586516,\n",
              " '12x8': 3.0546130545568873,\n",
              " 'buffalo': 1.7607993116307175,\n",
              " 'gekko': 3.0546130545568873,\n",
              " 'panacea': 3.0546130545568873,\n",
              " 'ker': 2.5782570766553374,\n",
              " 'hemmings': 2.75396586586516,\n",
              " 'quackists': 3.0546130545568873,\n",
              " 'sheltering': 2.75396586586516,\n",
              " 'altoona': 3.0546130545568873,\n",
              " 'uninvited': 2.75396586586516,\n",
              " 'airhoot': 3.0546130545568873,\n",
              " 'blazing': 2.154195657426271,\n",
              " 'magician': 1.7012299980669172,\n",
              " 'radford': 3.0546130545568873,\n",
              " 'facilites': 3.0546130545568873,\n",
              " 'moravian': 2.5782570766553374,\n",
              " 'captian': 2.75396586586516,\n",
              " 'miffed': 2.75396586586516,\n",
              " 'yowsah': 3.0546130545568873,\n",
              " 'stone_': 3.0546130545568873,\n",
              " 'disbanding': 3.0546130545568873,\n",
              " 'malchance': 3.0546130545568873,\n",
              " 'homeopathic': 2.75396586586516,\n",
              " 'demilitarized': 3.0546130545568873,\n",
              " 'slaw': 2.4537004733597723,\n",
              " 'unist': 3.0546130545568873,\n",
              " 'leavitt': 2.75396586586516,\n",
              " 'bimbagels': 3.0546130545568873,\n",
              " 'berggren': 3.0546130545568873,\n",
              " 'high': 0.5802925023891401,\n",
              " 'plasterboard': 3.0546130545568873,\n",
              " 'evans': 1.782698878134364,\n",
              " 'like1': 3.0546130545568873,\n",
              " 'phychiatric': 3.0546130545568873,\n",
              " 'laminated': 3.0546130545568873,\n",
              " 'animec': 2.75396586586516,\n",
              " 'omo': 3.0546130545568873,\n",
              " 'racer': 2.5782570766553374,\n",
              " 'forehead': 1.5233747984261048,\n",
              " 'tonari': 3.0546130545568873,\n",
              " 'polling': 2.75396586586516,\n",
              " 'clit': 3.0546130545568873,\n",
              " 'meta': 2.5782570766553374,\n",
              " 'apllication': 3.0546130545568873,\n",
              " 'trikonis': 2.5782570766553374,\n",
              " 'daaadddy': 3.0546130545568873,\n",
              " 'erm': 3.0546130545568873,\n",
              " 'upside': 1.6176741883963546,\n",
              " 'relic': 2.4537004733597723,\n",
              " 'preterm': 3.0546130545568873,\n",
              " 'pronouncemet': 3.0546130545568873,\n",
              " 'truss': 2.75396586586516,\n",
              " 'scottland': 3.0546130545568873,\n",
              " 'shatter': 2.0580462303952816,\n",
              " 'undergone': 2.5782570766553374,\n",
              " 'kelljan': 2.75396586586516,\n",
              " 'affianced': 3.0546130545568873,\n",
              " 'neutropenia': 3.0546130545568873,\n",
              " 'maori': 3.0546130545568873,\n",
              " 'millicano': 3.0546130545568873,\n",
              " 'china': 1.5481846105451076,\n",
              " 'pigment': 3.0546130545568873,\n",
              " 'bronchial': 3.0546130545568873,\n",
              " 'cutely': 2.75396586586516,\n",
              " 'mcintosh': 2.5782570766553374,\n",
              " 'neccessary': 2.2783724736954567,\n",
              " 'homebrewdigest': 3.0546130545568873,\n",
              " 'stimulates': 2.3571722577230334,\n",
              " 'cigaret': 3.0546130545568873,\n",
              " 'hezikah': 3.0546130545568873,\n",
              " 'cranky': 2.3571722577230334,\n",
              " 'sheehan': 3.0546130545568873,\n",
              " 'olympics': 1.9134353822230294,\n",
              " 'smitten': 2.75396586586516,\n",
              " 'encroachment': 3.0546130545568873,\n",
              " 'vm2': 3.0546130545568873,\n",
              " 'tariff': 2.75396586586516,\n",
              " 'fermat': 2.75396586586516,\n",
              " 'hurtling': 2.75396586586516,\n",
              " 'rattler': 3.0546130545568873,\n",
              " 'inhibition': 2.3571722577230334,\n",
              " 'disciplined': 2.211806811322216,\n",
              " 'tbr': 3.0546130545568873,\n",
              " 'nightspot': 2.75396586586516,\n",
              " 'slouching': 2.75396586586516,\n",
              " 'ernest': 2.211806811322216,\n",
              " 'thirteen': 1.9796242406282818,\n",
              " 'millilitre': 3.0546130545568873,\n",
              " 'goaded': 2.75396586586516,\n",
              " 'staggering': 1.9796242406282818,\n",
              " 'noteys': 3.0546130545568873,\n",
              " 'klimt': 3.0546130545568873,\n",
              " 'hecker': 3.0546130545568873,\n",
              " 'quoted': 1.739986514085793,\n",
              " 'kashmir': 3.0546130545568873,\n",
              " 'pictue': 3.0546130545568873,\n",
              " 'preposition': 2.5782570766553374,\n",
              " 'hiken': 2.75396586586516,\n",
              " 'clark': 1.7201593034059568,\n",
              " 'sealing': 2.3571722577230334,\n",
              " 'intelectual': 3.0546130545568873,\n",
              " 'sautee': 2.75396586586516,\n",
              " 'earwax': 2.75396586586516,\n",
              " 'stance': 2.2783724736954567,\n",
              " 'mesmerise': 3.0546130545568873,\n",
              " 'pout': 2.3571722577230334,\n",
              " 'mast': 2.5782570766553374,\n",
              " 'range': 1.2236545504796186,\n",
              " 'reaching': 1.5884584600087859,\n",
              " 'manganese': 3.0546130545568873,\n",
              " 'kupec': 3.0546130545568873,\n",
              " 'woad': 2.5782570766553374,\n",
              " 'lbbl': 3.0546130545568873,\n",
              " 'gamepeice': 3.0546130545568873,\n",
              " 'boite': 2.75396586586516,\n",
              " 'crucufix': 3.0546130545568873,\n",
              " 'joked': 2.75396586586516,\n",
              " 'men': 0.7665526571576794,\n",
              " 'accoutrement': 3.0546130545568873,\n",
              " 'spouse': 1.633094225067931,\n",
              " 'unravel': 3.0546130545568873,\n",
              " 'doings': 3.0546130545568873,\n",
              " 'lounged': 3.0546130545568873,\n",
              " 'supremes': 3.0546130545568873,\n",
              " 'ramsey': 2.75396586586516,\n",
              " 'namba': 3.0546130545568873,\n",
              " 'parmar': 3.0546130545568873,\n",
              " 'neo': 1.739986514085793,\n",
              " 'firehouse': 2.75396586586516,\n",
              " 'gatherer': 3.0546130545568873,\n",
              " 'sandinistas': 3.0546130545568873,\n",
              " 'lesion': 2.3571722577230334,\n",
              " 'zinberg': 3.0546130545568873,\n",
              " 'mccrea': 2.75396586586516,\n",
              " 'ernst': 2.75396586586516,\n",
              " 'nnw': 3.0546130545568873,\n",
              " 'interchangeable': 2.103423594470504,\n",
              " 'monosyllable': 3.0546130545568873,\n",
              " 'hay': 1.85620004603236,\n",
              " 'specializing': 1.382421396516723,\n",
              " 'wurley': 3.0546130545568873,\n",
              " 'ambiguity': 2.75396586586516,\n",
              " 'b9d': 3.0546130545568873,\n",
              " 'unpleasing': 3.0546130545568873,\n",
              " '1139c': 3.0546130545568873,\n",
              " 'eski': 3.0546130545568873,\n",
              " 'devil': 1.2531064433467982,\n",
              " 'yugos': 3.0546130545568873,\n",
              " 'clubhouse': 3.0546130545568873,\n",
              " 'handle': 1.0677654411112931,\n",
              " 'wench': 2.4537004733597723,\n",
              " 'swivelling': 3.0546130545568873,\n",
              " 'smurfgang': 3.0546130545568873,\n",
              " 'behind': 0.7791110175850934,\n",
              " 'gimlet': 2.5782570766553374,\n",
              " 'jerome': 2.75396586586516,\n",
              " 'excepting': 2.75396586586516,\n",
              " 'kessler': 2.75396586586516,\n",
              " 'nots': 3.0546130545568873,\n",
              " 'swinish': 2.75396586586516,\n",
              " 'tamarillo': 3.0546130545568873,\n",
              " 'pried': 2.5782570766553374,\n",
              " 'behaviour': 1.9134353822230294,\n",
              " 'haunted': 1.6831221172401434,\n",
              " 'fetching': 3.0546130545568873,\n",
              " 'supremo': 2.75396586586516,\n",
              " 'texbell': 2.75396586586516,\n",
              " 'louder': 1.9134353822230294,\n",
              " '85s': 3.0546130545568873,\n",
              " 'microcephalus': 3.0546130545568873,\n",
              " 'darkroom': 2.75396586586516,\n",
              " 'velvety': 3.0546130545568873,\n",
              " 'nrb': 3.0546130545568873,\n",
              " 'juggler': 2.5782570766553374,\n",
              " 'advt': 3.0546130545568873,\n",
              " 'impecible': 3.0546130545568873,\n",
              " 'drift': 2.211806811322216,\n",
              " 'bulgaria': 2.5782570766553374,\n",
              " '10am': 2.4537004733597723,\n",
              " 'capella': 3.0546130545568873,\n",
              " 'm0re': 3.0546130545568873,\n",
              " 'karlene': 2.75396586586516,\n",
              " 'bimboette': 3.0546130545568873,\n",
              " 'quartermass': 3.0546130545568873,\n",
              " 'speakman': 3.0546130545568873,\n",
              " 'outfitted': 2.3571722577230334,\n",
              " 'cutt': 3.0546130545568873,\n",
              " 'pojtik': 3.0546130545568873,\n",
              " 'afatds': 3.0546130545568873,\n",
              " 'directe': 3.0546130545568873,\n",
              " 'foch': 2.75396586586516,\n",
              " 'projective': 2.5782570766553374,\n",
              " 'mysticism': 2.75396586586516,\n",
              " 'siddur': 3.0546130545568873,\n",
              " 'thaht': 3.0546130545568873,\n",
              " 'hp2000': 3.0546130545568873,\n",
              " 'ambulance': 1.85620004603236,\n",
              " 'inflicts': 3.0546130545568873,\n",
              " '1989b': 3.0546130545568873,\n",
              " 'nagoy': 3.0546130545568873,\n",
              " '38p': 3.0546130545568873,\n",
              " 'sizeable': 2.5782570766553374,\n",
              " 'japanimation': 2.5782570766553374,\n",
              " 'suction': 2.3571722577230334,\n",
              " 'doering': 3.0546130545568873,\n",
              " 'eyesight': 2.4537004733597723,\n",
              " 'guyver': 2.75396586586516,\n",
              " 'anthropology': 2.75396586586516,\n",
              " 'danny': 1.7607993116307175,\n",
              " 'querent': 3.0546130545568873,\n",
              " 'fullest': 2.3571722577230334,\n",
              " 'characterizing': 3.0546130545568873,\n",
              " 'wafting': 3.0546130545568873,\n",
              " 'criollo': 3.0546130545568873,\n",
              " 'playhouse': 3.0546130545568873,\n",
              " 'cb130a': 3.0546130545568873,\n",
              " 'emrc': 3.0546130545568873,\n",
              " 'mva': 2.75396586586516,\n",
              " 'retelling': 3.0546130545568873,\n",
              " 'bateau': 3.0546130545568873,\n",
              " 'cassius': 3.0546130545568873,\n",
              " 'foo': 2.4537004733597723,\n",
              " 'phreking': 3.0546130545568873,\n",
              " 'uhhh': 2.5782570766553374,\n",
              " 'saudi': 2.75396586586516,\n",
              " 'awww': 2.75396586586516,\n",
              " 'vla': 2.75396586586516,\n",
              " 'jesus': 1.3420569591316227,\n",
              " 'mhuxd': 3.0546130545568873,\n",
              " 'courthouse': 2.154195657426271,\n",
              " 'bavarian': 3.0546130545568873,\n",
              " 'phhht': 2.75396586586516,\n",
              " 'murdock': 2.211806811322216,\n",
              " 'eirp': 3.0546130545568873,\n",
              " 'mix': 0.9785820647142505,\n",
              " 'masturbated': 2.5782570766553374,\n",
              " 'pounder': 2.75396586586516,\n",
              " 'microscopica': 3.0546130545568873,\n",
              " 'pressing': 1.7201593034059568,\n",
              " 'marching': 2.154195657426271,\n",
              " 'homage': 2.211806811322216,\n",
              " 'enemy': 1.2293681382027304,\n",
              " 'fillmore': 3.0546130545568873,\n",
              " 'kleptomaniac': 2.4537004733597723,\n",
              " 'sacrum': 3.0546130545568873,\n",
              " 'mixe': 3.0546130545568873,\n",
              " 'stbit1': 3.0546130545568873,\n",
              " 'chickpea': 2.5782570766553374,\n",
              " 'pirsig': 3.0546130545568873,\n",
              " 'hoof': 2.211806811322216,\n",
              " 'terrestrial': 2.5782570766553374,\n",
              " 'stealing': 1.45688424019186,\n",
              " 'retaliates': 3.0546130545568873,\n",
              " 'propelled': 2.103423594470504,\n",
              " 'alanna': 3.0546130545568873,\n",
              " 'unreal': 2.75396586586516,\n",
              " 'bhanafee': 3.0546130545568873,\n",
              " 'mongolia': 2.5782570766553374,\n",
              " 'higher': 1.151505254374814,\n",
              " 'tc': 2.103423594470504,\n",
              " 'loathes': 3.0546130545568873,\n",
              " 'assasinated': 3.0546130545568873,\n",
              " 'considerate': 2.75396586586516,\n",
              " 'laserium': 3.0546130545568873,\n",
              " 'showered': 2.5782570766553374,\n",
              " 'enslave': 3.0546130545568873,\n",
              " 'slashed': 2.211806811322216,\n",
              " 'redirecting': 2.5782570766553374,\n",
              " 'sideline': 3.0546130545568873,\n",
              " 'perchance': 2.75396586586516,\n",
              " 'administrivia': 2.75396586586516,\n",
              " 'ogawa': 3.0546130545568873,\n",
              " 'krueger': 2.154195657426271,\n",
              " 'tidbit': 2.3571722577230334,\n",
              " 'smokeless': 3.0546130545568873,\n",
              " 'sacrificed': 2.211806811322216,\n",
              " 'illuminism': 3.0546130545568873,\n",
              " 'falafel': 3.0546130545568873,\n",
              " 'masturbatorium': 3.0546130545568873,\n",
              " 'mx': 2.2783724736954567,\n",
              " 'adelaide': 3.0546130545568873,\n",
              " 'xenon': 3.0546130545568873,\n",
              " 'penetration': 2.5782570766553374,\n",
              " 'ransdell': 3.0546130545568873,\n",
              " 'maurice': 2.211806811322216,\n",
              " 'anally': 3.0546130545568873,\n",
              " 'fait': 2.3571722577230334,\n",
              " 'substandard': 2.75396586586516,\n",
              " 'dill': 2.103423594470504,\n",
              " 'freen': 1.326993827612491,\n",
              " 'kuchen': 3.0546130545568873,\n",
              " 'troglodyte': 3.0546130545568873,\n",
              " 'webb': 2.2783724736954567,\n",
              " 'chestnts': 3.0546130545568873,\n",
              " 'sponsees': 2.75396586586516,\n",
              " 'fallootin': 3.0546130545568873,\n",
              " 'pnet01': 3.0546130545568873,\n",
              " 'biblical': 2.103423594470504,\n",
              " 'broilint': 3.0546130545568873,\n",
              " '_teach': 3.0546130545568873,\n",
              " 'def': 2.0580462303952816,\n",
              " 'revivalist': 3.0546130545568873,\n",
              " 'extends': 2.5782570766553374,\n",
              " 'underside': 2.0580462303952816,\n",
              " 'hopped': 2.0170333392987803,\n",
              " 'sirloin': 2.211806811322216,\n",
              " 'crewman': 2.5782570766553374,\n",
              " 'discrete': 2.154195657426271,\n",
              " '_ms': 3.0546130545568873,\n",
              " 'revelation': 1.782698878134364,\n",
              " 'irrelevance': 2.5782570766553374,\n",
              " 'postil': 2.75396586586516,\n",
              " 'tendancy': 2.4537004733597723,\n",
              " 'depth': 1.45688424019186,\n",
              " 'zing': 2.5782570766553374,\n",
              " 'graphia': 3.0546130545568873,\n",
              " 'steamed': 1.782698878134364,\n",
              " 'bradford': 2.3571722577230334,\n",
              " 'crabgrass': 2.75396586586516,\n",
              " 'tangle': 2.5782570766553374,\n",
              " 'loleta': 3.0546130545568873,\n",
              " 'megalithic': 2.75396586586516,\n",
              " 'fight': 0.9614723110582999,\n",
              " 'dail': 3.0546130545568873,\n",
              " 'titov': 2.75396586586516,\n",
              " 'pegleg': 3.0546130545568873,\n",
              " '40mdorcester': 3.0546130545568873,\n",
              " 'ppo': 3.0546130545568873,\n",
              " 'gallua': 3.0546130545568873,\n",
              " 'brillstein': 3.0546130545568873,\n",
              " 'greet': 1.9452412653245341,\n",
              " 'shitless': 2.5782570766553374,\n",
              " 'rouse': 2.5782570766553374,\n",
              " 'genile': 3.0546130545568873,\n",
              " 'cagliostro': 2.75396586586516,\n",
              " 'corneal': 3.0546130545568873,\n",
              " 'heand': 3.0546130545568873,\n",
              " 'calumny': 3.0546130545568873,\n",
              " 'cruiser': 2.154195657426271,\n",
              " 'mazda': 2.75396586586516,\n",
              " 'ater': 2.75396586586516,\n",
              " 'probable': 1.9796242406282818,\n",
              " 'spdcc': 2.5782570766553374,\n",
              " 'riveting': 3.0546130545568873,\n",
              " 'welles': 2.3571722577230334,\n",
              " 'bazaar': 2.4537004733597723,\n",
              " 'deposited': 2.211806811322216,\n",
              " 'blubber': 3.0546130545568873,\n",
              " 'spiny': 2.75396586586516,\n",
              " 'breadboard': 3.0546130545568873,\n",
              " 'inter': 1.9452412653245341,\n",
              " 'podiatrist': 2.75396586586516,\n",
              " 'home': 0.6141204166939963,\n",
              " 'shakey': 3.0546130545568873,\n",
              " 'berserk': 2.75396586586516,\n",
              " 'ansimations': 3.0546130545568873,\n",
              " 'downtrodden': 2.75396586586516,\n",
              " 'mistreated': 3.0546130545568873,\n",
              " 'hebert': 2.75396586586516,\n",
              " 'utilitarian': 3.0546130545568873,\n",
              " 'miserable': 1.633094225067931,\n",
              " 'doesnt': 2.0580462303952816,\n",
              " '_________________________________________________________________': 2.211806811322216,\n",
              " 'pulford': 3.0546130545568873,\n",
              " 'pimpel': 3.0546130545568873,\n",
              " 'medicine': 1.4672380207875668,\n",
              " '_infinitely_': 3.0546130545568873,\n",
              " 'thwack': 2.5782570766553374,\n",
              " 'robur': 3.0546130545568873,\n",
              " 'wp': 3.0546130545568873,\n",
              " 'humiliation': 2.2783724736954567,\n",
              " 'omron': 3.0546130545568873,\n",
              " 'prolific': 2.2783724736954567,\n",
              " 'thickened': 1.9134353822230294,\n",
              " 'stuffer': 2.75396586586516,\n",
              " 'westerfield': 3.0546130545568873,\n",
              " 'edisni': 3.0546130545568873,\n",
              " 'innards': 2.4537004733597723,\n",
              " 'craned': 3.0546130545568873,\n",
              " 'armor': 1.9134353822230294,\n",
              " 'nti': 3.0546130545568873,\n",
              " 'bicentennial': 3.0546130545568873,\n",
              " 'symantec': 3.0546130545568873,\n",
              " 'starteth': 3.0546130545568873,\n",
              " 'bonded': 3.0546130545568873,\n",
              " 'fran': 2.211806811322216,\n",
              " 'simonson': 3.0546130545568873,\n",
              " 'bath': 1.5233747984261048,\n",
              " 'abort': 2.103423594470504,\n",
              " 'stamen': 2.3571722577230334,\n",
              " 'pilosebaceous': 3.0546130545568873,\n",
              " 'ranch': 1.7201593034059568,\n",
              " 'molehill': 2.75396586586516,\n",
              " 'l42': 3.0546130545568873,\n",
              " 'disappointingly': 3.0546130545568873,\n",
              " 'walkway': 2.211806811322216,\n",
              " 'koffein': 3.0546130545568873,\n",
              " 'bribing': 3.0546130545568873,\n",
              " 'blandishment': 3.0546130545568873,\n",
              " 'reeeaaalllly': 3.0546130545568873,\n",
              " 'horniness': 3.0546130545568873,\n",
              " 'sugarplum': 3.0546130545568873,\n",
              " 'pn': 2.5782570766553374,\n",
              " 'extant': 2.75396586586516,\n",
              " 'viles': 2.75396586586516,\n",
              " 'unify': 2.5782570766553374,\n",
              " 'honking': 2.4537004733597723,\n",
              " 'nonreversible': 3.0546130545568873,\n",
              " 'mallow': 3.0546130545568873,\n",
              " 'bgz': 3.0546130545568873,\n",
              " 'mank': 2.75396586586516,\n",
              " 'octal': 2.5782570766553374,\n",
              " 'sting': 1.85620004603236,\n",
              " 'mess': 1.2531064433467982,\n",
              " 'travalena': 3.0546130545568873,\n",
              " 'colwell': 3.0546130545568873,\n",
              " 'c8h10n4o2': 3.0546130545568873,\n",
              " 'walken': 2.75396586586516,\n",
              " 'schlock': 2.75396586586516,\n",
              " 'eekamouse': 3.0546130545568873,\n",
              " 'baltorian': 3.0546130545568873,\n",
              " 'oughtn': 3.0546130545568873,\n",
              " 'freelists': 3.0546130545568873,\n",
              " 'candlebox': 2.5782570766553374,\n",
              " 'drund': 3.0546130545568873,\n",
              " 'landing': 1.6831221172401434,\n",
              " 'collins_w': 3.0546130545568873,\n",
              " 'tourney': 2.75396586586516,\n",
              " 'durkee': 2.3571722577230334,\n",
              " 'boobytrap': 3.0546130545568873,\n",
              " 'coven': 3.0546130545568873,\n",
              " 'relies': 2.75396586586516,\n",
              " 'disassembly': 2.5782570766553374,\n",
              " 'dahlberg': 3.0546130545568873,\n",
              " 'coo': 2.2783724736954567,\n",
              " 'unhealthy': 2.154195657426271,\n",
              " 'paul': 1.1422329917947138,\n",
              " 'suffering': 1.5233747984261048,\n",
              " 'donatello': 2.5782570766553374,\n",
              " 'unthankful': 3.0546130545568873,\n",
              " 'deniability': 3.0546130545568873,\n",
              " 'ops': 2.4537004733597723,\n",
              " 'ineffective': 2.2783724736954567,\n",
              " 'jesuit': 2.75396586586516,\n",
              " 'muchmusic': 2.5782570766553374,\n",
              " 'saronno': 3.0546130545568873,\n",
              " 'othel': 3.0546130545568873,\n",
              " 'oozing': 2.154195657426271,\n",
              " 'phantomlord': 3.0546130545568873,\n",
              " 'accross': 2.5782570766553374,\n",
              " 'lapd': 2.75396586586516,\n",
              " 'guccione': 3.0546130545568873,\n",
              " 'indirection': 2.75396586586516,\n",
              " 'unsteadily': 3.0546130545568873,\n",
              " 'chametz': 3.0546130545568873,\n",
              " 'appreciates': 2.3571722577230334,\n",
              " 'felix': 2.154195657426271,\n",
              " 'kanal': 3.0546130545568873,\n",
              " 'byer': 3.0546130545568873,\n",
              " 'optimum': 2.2783724736954567,\n",
              " 'antenna': 1.8838506290062733,\n",
              " 'rant': 2.0580462303952816,\n",
              " 'runnung': 3.0546130545568873,\n",
              " 'senior': 1.5233747984261048,\n",
              " 'sprang': 2.154195657426271,\n",
              " 'movin': 2.75396586586516,\n",
              " 'racially': 3.0546130545568873,\n",
              " 'triphosphate': 3.0546130545568873,\n",
              " 'scrapyard': 3.0546130545568873,\n",
              " '_rave_': 3.0546130545568873,\n",
              " 'bequeaths': 3.0546130545568873,\n",
              " 'toluene': 3.0546130545568873,\n",
              " 'town': 0.9614723110582999,\n",
              " 'functionally': 2.75396586586516,\n",
              " 'carpenter': 2.103423594470504,\n",
              " 'unoriginality': 3.0546130545568873,\n",
              " 'weighty': 3.0546130545568873,\n",
              " 'newserver': 3.0546130545568873,\n",
              " 'mainland': 2.75396586586516,\n",
              " 'assault': 1.739986514085793,\n",
              " 'officialy': 3.0546130545568873,\n",
              " 'labyrinth': 2.75396586586516,\n",
              " 'jovially': 3.0546130545568873,\n",
              " 'rsn': 2.75396586586516,\n",
              " 'toolbooth': 3.0546130545568873,\n",
              " 'bell': 1.1157167091273055,\n",
              " 'peeple': 3.0546130545568873,\n",
              " 'spurring': 3.0546130545568873,\n",
              " 'representational': 3.0546130545568873,\n",
              " 'maclaury': 3.0546130545568873,\n",
              " 'piepan': 3.0546130545568873,\n",
              " 'flusher': 2.75396586586516,\n",
              " 'myced': 3.0546130545568873,\n",
              " 'wrecked': 2.4537004733597723,\n",
              " 'chodorow': 3.0546130545568873,\n",
              " 'amputative': 3.0546130545568873,\n",
              " 'c0ol': 3.0546130545568873,\n",
              " 'zen': 1.9452412653245341,\n",
              " 'isao': 3.0546130545568873,\n",
              " 'nobody': 1.0090845279617793,\n",
              " 'cranial': 2.75396586586516,\n",
              " 'hehehehhehehheheheh': 3.0546130545568873,\n",
              " 'noll': 3.0546130545568873,\n",
              " 'konzinski': 3.0546130545568873,\n",
              " 'respiratory': 2.5782570766553374,\n",
              " 'preferable': 2.103423594470504,\n",
              " 'calpis': 2.75396586586516,\n",
              " 'squeak': 2.154195657426271,\n",
              " 'maternier': 2.5782570766553374,\n",
              " 'mannered': 1.9796242406282818,\n",
              " '8f06': 2.75396586586516,\n",
              " '7f04': 2.75396586586516,\n",
              " 'massey': 2.75396586586516,\n",
              " 'rjb': 3.0546130545568873,\n",
              " 'planeteers': 3.0546130545568873,\n",
              " '2400baud': 3.0546130545568873,\n",
              " 'columbiana': 3.0546130545568873,\n",
              " 'economical': 2.5782570766553374,\n",
              " 'uproariously': 3.0546130545568873,\n",
              " 'trimming': 2.2783724736954567,\n",
              " 'wwii': 1.9452412653245341,\n",
              " 'chrysler': 2.75396586586516,\n",
              " 'negotiation': 2.211806811322216,\n",
              " 'quangaroos': 3.0546130545568873,\n",
              " 'kosmonaut': 3.0546130545568873,\n",
              " 'hrre': 3.0546130545568873,\n",
              " 'lucignano': 2.5782570766553374,\n",
              " 'meditators': 3.0546130545568873,\n",
              " 'alleges': 2.75396586586516,\n",
              " 'meen': 3.0546130545568873,\n",
              " 'ius': 2.75396586586516,\n",
              " 'newhart': 2.2783724736954567,\n",
              " 'deayton': 3.0546130545568873,\n",
              " 'racketeer': 2.5782570766553374,\n",
              " 'commercialism': 2.5782570766553374,\n",
              " 'scm': 3.0546130545568873,\n",
              " 'axed': 2.75396586586516,\n",
              " 'semicircle': 3.0546130545568873,\n",
              " 'rearview': 2.5782570766553374,\n",
              " 'glide': 2.2783724736954567,\n",
              " 'bazd': 3.0546130545568873,\n",
              " 'whirl': 2.5782570766553374,\n",
              " 'temple': 1.1658554825606422,\n",
              " 'sanctum': 3.0546130545568873,\n",
              " 'crowd': 1.1858755285398257,\n",
              " 'study': 1.0355167449927933,\n",
              " 'embassador': 3.0546130545568873,\n",
              " 'ahrairah': 3.0546130545568873,\n",
              " 'ritualarium': 3.0546130545568873,\n",
              " 'imagery': 2.154195657426271,\n",
              " 'abnerson': 3.0546130545568873,\n",
              " 'entice': 2.75396586586516,\n",
              " 'alopecia': 3.0546130545568873,\n",
              " 'indulgently': 3.0546130545568873,\n",
              " 'cked': 3.0546130545568873,\n",
              " 'adjoining': 2.154195657426271,\n",
              " 'newton': 1.6831221172401434,\n",
              " 'proctoscope': 3.0546130545568873,\n",
              " 'tijuana': 3.0546130545568873,\n",
              " 'lagomoph': 3.0546130545568873,\n",
              " 'deuteron': 2.75396586586516,\n",
              " 'arterial': 3.0546130545568873,\n",
              " 'xao': 2.75396586586516,\n",
              " 'rainstorm': 2.5782570766553374,\n",
              " 'astoria': 3.0546130545568873,\n",
              " 'liquers': 3.0546130545568873,\n",
              " 'sequencing': 3.0546130545568873,\n",
              " ...}"
            ]
          },
          "metadata": {},
          "execution_count": 43
        }
      ]
    },
    {
      "cell_type": "code",
      "source": [
        "b=[]\n",
        "for i in glob.glob(P):\n",
        "  b.append(os.path.basename(i))"
      ],
      "metadata": {
        "id": "KX0q4CXtKkOx"
      },
      "execution_count": null,
      "outputs": []
    },
    {
      "cell_type": "code",
      "source": [
        "for x in range(1):\n",
        "  print(\"\")\n",
        "doc={}\n",
        "for x in range(1):\n",
        "    print(\"\")\n",
        "for z in tqdm(range(len(dict))):\n",
        "  term={}\n",
        "  for j in (voc):\n",
        "    if (z+1) not in list(p_ind[j][1].keys()):\n",
        "      counter=0\n",
        "      for x in range(1):\n",
        "        print(\"\")\n",
        "    else:\n",
        "      counter=len(p_ind[j][1][z+1])\n",
        "      for x in range(1):\n",
        "        print(\"\")  \n",
        "    term[j]=counter\n",
        "  doc[b[z]]=term\n",
        "for x in range(1):\n",
        "    print(\"\")      "
      ],
      "metadata": {
        "colab": {
          "base_uri": "https://localhost:8080/"
        },
        "id": "rHG-GBqYjBRz",
        "outputId": "ad0341d8-681b-41a4-efe4-498b86bf9ad8"
      },
      "execution_count": null,
      "outputs": [
        {
          "output_type": "stream",
          "name": "stdout",
          "text": [
            "\n",
            "\n"
          ]
        },
        {
          "output_type": "stream",
          "name": "stderr",
          "text": [
            "100%|██████████| 1133/1133 [02:50<00:00,  6.66it/s]"
          ]
        },
        {
          "output_type": "stream",
          "name": "stdout",
          "text": [
            "\n"
          ]
        },
        {
          "output_type": "stream",
          "name": "stderr",
          "text": [
            "\n"
          ]
        }
      ]
    },
    {
      "cell_type": "code",
      "source": [
        "b=[]\n",
        "for i in glob.glob(P):\n",
        "  b.append(os.path.basename(i))"
      ],
      "metadata": {
        "id": "25uZQWX4dxQI"
      },
      "execution_count": null,
      "outputs": []
    },
    {
      "cell_type": "code",
      "source": [
        "for x in range(1):\n",
        "  print(\"\")\n",
        "totalsum={}\n",
        "for x in range(1):\n",
        "    print(\"\")\n",
        "for i in tqdm(range(len(b))):\n",
        "  sum=0\n",
        "  for j in voc:\n",
        "    sum=sum+doc[b[i]][j]\n",
        "    for x in range(1):\n",
        "      print(\"\")\n",
        "  totalsum[b[i]]=sum\n",
        "for x in range(1):\n",
        "  print(\"\")"
      ],
      "metadata": {
        "colab": {
          "base_uri": "https://localhost:8080/"
        },
        "id": "es_GQ_YBfhrq",
        "outputId": "acebeee8-badc-45a2-e359-4cfc64d4a7db"
      },
      "execution_count": null,
      "outputs": [
        {
          "output_type": "stream",
          "name": "stdout",
          "text": [
            "\n",
            "\n"
          ]
        },
        {
          "output_type": "stream",
          "name": "stderr",
          "text": [
            "100%|██████████| 1133/1133 [00:35<00:00, 31.98it/s]"
          ]
        },
        {
          "output_type": "stream",
          "name": "stdout",
          "text": [
            "\n"
          ]
        },
        {
          "output_type": "stream",
          "name": "stderr",
          "text": [
            "\n"
          ]
        }
      ]
    },
    {
      "cell_type": "code",
      "source": [
        "term_freq={}\n",
        "for x in range(1):\n",
        "    print(\"\")\n",
        "for i in tqdm(voc):\n",
        "  pair={}\n",
        "  for j in range(len(dict)):\n",
        "    if (j+1) not in list(p_ind[i][1].keys()):\n",
        "      counter=0\n",
        "      for x in range(1):\n",
        "        print(\"\")\n",
        "    else:\n",
        "      counter=(len(p_ind[i][1][j+1])/totalsum[b[j]])\n",
        "      for x in range(1):\n",
        "        print(\"\")\n",
        "    pair[b[j]]=counter\n",
        "  term_freq[i]=pair\n",
        "for x in range(1):\n",
        "    print(\"\")"
      ],
      "metadata": {
        "colab": {
          "base_uri": "https://localhost:8080/"
        },
        "id": "CuQZqcyJgz2u",
        "outputId": "c362adc4-bf68-4a4e-f170-bb37c500609e"
      },
      "execution_count": null,
      "outputs": [
        {
          "output_type": "stream",
          "name": "stdout",
          "text": [
            "\n"
          ]
        },
        {
          "output_type": "stream",
          "name": "stderr",
          "text": [
            "100%|██████████| 60765/60765 [01:02<00:00, 966.33it/s] "
          ]
        },
        {
          "output_type": "stream",
          "name": "stdout",
          "text": [
            "\n"
          ]
        },
        {
          "output_type": "stream",
          "name": "stderr",
          "text": [
            "\n"
          ]
        }
      ]
    },
    {
      "cell_type": "code",
      "source": [
        "for x in range(1):\n",
        "  print(\"\")\n",
        "tf_freq2=[]\n",
        "for x in range(1):\n",
        "    print(\"\")\n",
        "for j in tqdm(range(len(dict))):\n",
        "  s=[]\n",
        "  for i in voc:\n",
        "    s.append(term_freq[i][b[j]]*idf[i])\n",
        "    for x in range(1):\n",
        "      print(\"\")\n",
        "  tf_freq2.append(s)\n",
        "for x in range(1):\n",
        "    print(\"\")"
      ],
      "metadata": {
        "colab": {
          "base_uri": "https://localhost:8080/"
        },
        "id": "xVxN6dLfHfeO",
        "outputId": "130c68df-958c-40d9-8667-5775c297afec"
      },
      "execution_count": null,
      "outputs": [
        {
          "output_type": "stream",
          "name": "stdout",
          "text": [
            "\n",
            "\n"
          ]
        },
        {
          "output_type": "stream",
          "name": "stderr",
          "text": [
            "100%|██████████| 1133/1133 [02:01<00:00,  9.33it/s]"
          ]
        },
        {
          "output_type": "stream",
          "name": "stdout",
          "text": [
            "\n"
          ]
        },
        {
          "output_type": "stream",
          "name": "stderr",
          "text": [
            "\n"
          ]
        }
      ]
    },
    {
      "cell_type": "code",
      "source": [
        "for x in range(1):\n",
        "  print(\"\")\n",
        "tf_freq2=np.asarray(tf_freq2)\n",
        "for x in range(1):\n",
        "    print(\"\")"
      ],
      "metadata": {
        "colab": {
          "base_uri": "https://localhost:8080/"
        },
        "id": "z3MzcerqH1F5",
        "outputId": "5b838439-d53c-43eb-878b-57304073d499"
      },
      "execution_count": null,
      "outputs": [
        {
          "output_type": "stream",
          "name": "stdout",
          "text": [
            "\n",
            "\n"
          ]
        }
      ]
    },
    {
      "cell_type": "code",
      "source": [
        "c=[]\n",
        "f=[]\n",
        "sentence=input(\"Enter your query:\")\n",
        "#Sentence Preprocessing\n",
        "sentence=''.join('' if c=='.' else c for c in sentence)#normalization\n",
        "sentence=re.sub(r'[^a-zA-Z]+', ' ',sentence)#removal of punctuations\n",
        "sentence=sentence.lower()#lower case\n",
        "tags_pattern=re.compile('<.*?>')\n",
        "sentence=tags_pattern.sub(r'',sentence)#removal of tags\n",
        "url_pattern=re.compile(r'https?://\\S+|www\\.\\S+')\n",
        "sentence=url_pattern.sub(r'',sentence)#removal of url\n",
        "sentence=\" \".join(sentence.split())#removal of extra white spaces\n",
        "lem=WordNetLemmatizer()#lemmanization\n",
        "sentence=\"\".join([lem.lemmatize(word) for word in sentence])#lemmanization\n",
        "words=word_tokenize(sentence)#convert to tokens\n",
        "for x in range(1):\n",
        "  print(\"\")\n",
        "#remove stopwords\n",
        "for word in words:\n",
        "  if word not in stopwords.words('english'):\n",
        "    f.append(word)\n",
        "for x in f:\n",
        "  if x not in c:\n",
        "    c.append(x)"
      ],
      "metadata": {
        "colab": {
          "base_uri": "https://localhost:8080/"
        },
        "id": "Gg_exkhVIKGH",
        "outputId": "43a0ef22-800f-4c31-c1ad-74f532a5d69b"
      },
      "execution_count": null,
      "outputs": [
        {
          "output_type": "stream",
          "name": "stdout",
          "text": [
            "Enter your query:cold water\n",
            "\n"
          ]
        }
      ]
    },
    {
      "cell_type": "code",
      "source": [
        "for x in range(1):\n",
        "  print(\"\")\n",
        "d=pd.DataFrame(tf_freq2,columns=voc)\n",
        "for x in range(1):\n",
        "    print(\"\")"
      ],
      "metadata": {
        "colab": {
          "base_uri": "https://localhost:8080/"
        },
        "id": "QWEz68JrIXHp",
        "outputId": "53d1db2e-4d57-475a-e974-ca3b551cb8b5"
      },
      "execution_count": null,
      "outputs": [
        {
          "output_type": "stream",
          "name": "stdout",
          "text": [
            "\n",
            "\n"
          ]
        }
      ]
    },
    {
      "cell_type": "code",
      "source": [
        "for x in range(1):\n",
        "  print(\"\")\n",
        "d1=pd.DataFrame(columns=c)\n",
        "for x in range(1):\n",
        "    print(\"\")"
      ],
      "metadata": {
        "colab": {
          "base_uri": "https://localhost:8080/"
        },
        "id": "4ogtT9DFIkg_",
        "outputId": "f827efed-5811-4b4b-a420-7e6c16d45e7b"
      },
      "execution_count": null,
      "outputs": [
        {
          "output_type": "stream",
          "name": "stdout",
          "text": [
            "\n",
            "\n"
          ]
        }
      ]
    },
    {
      "cell_type": "code",
      "source": [
        "for x in range(1):\n",
        "  print(\"\")\n",
        "sum_count=0\n",
        "sort={}\n",
        "di={}\n",
        "for x in range(1):\n",
        "  print(\"\")\n",
        "for i in c:\n",
        "  for j in range(len(d)):\n",
        "    d1.at[j,i]=d.at[j,i]\n",
        "  for x in range(1):\n",
        "    print(\"\")\n",
        "for i in list(d1.columns):\n",
        "  sum_count=sum_count+d1[i]\n",
        "  d1['sum']=sum_count\n",
        "for x in range(1):\n",
        "    print(\"\")\n",
        "for i in range(len(d1)):\n",
        "  di[b[i]]=d1['sum'][i]\n",
        "  sorted_keys=sorted(di,key=di.get,reverse=True)\n",
        "for x in range(1):\n",
        "    print(\"\")\n",
        "for i in sorted_keys:\n",
        "  sort[i]=di[i]"
      ],
      "metadata": {
        "colab": {
          "base_uri": "https://localhost:8080/"
        },
        "id": "_Ml1DdSEIoDv",
        "outputId": "0f610e26-93cf-4ed7-f737-16ea1167da5d"
      },
      "execution_count": null,
      "outputs": [
        {
          "output_type": "stream",
          "name": "stdout",
          "text": [
            "\n",
            "\n",
            "\n",
            "\n",
            "\n"
          ]
        }
      ]
    },
    {
      "cell_type": "code",
      "source": [
        "for x in range(1):\n",
        "  print(\"\")\n",
        "a=list(sort.keys())\n",
        "print(a[0:5])\n",
        "for x in range(1):\n",
        "  print(\"\")"
      ],
      "metadata": {
        "colab": {
          "base_uri": "https://localhost:8080/"
        },
        "id": "OuSwYCcIIq45",
        "outputId": "1b0d1e9b-3177-4402-93ef-93816a5d9a95"
      },
      "execution_count": null,
      "outputs": [
        {
          "output_type": "stream",
          "name": "stdout",
          "text": [
            "\n",
            "['pasta001.sal', 'orgfrost.bev', 'beershrm.fis', 'antimead.bev', 'beershrp.fis']\n",
            "\n"
          ]
        }
      ]
    }
  ]
}